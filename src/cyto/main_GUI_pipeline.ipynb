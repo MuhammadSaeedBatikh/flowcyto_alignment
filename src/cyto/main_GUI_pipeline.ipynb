{
 "cells": [
  {
   "cell_type": "code",
   "execution_count": null,
   "metadata": {},
   "outputs": [],
   "source": [
    "from helpers import *\n",
    "from pipeline import *\n",
    "from visualization import *\n",
    "\n",
    "from ipywidgets import interact, interactive, fixed, interact_manual\n",
    "import ipywidgets as widgets\n",
    "from IPython.core.display import display, HTML"
   ]
  },
  {
   "cell_type": "code",
   "execution_count": null,
   "metadata": {
    "pycharm": {
     "name": "#%%\n"
    }
   },
   "outputs": [],
   "source": [
    "path = '../../data/080322-ENU-Mouse-Normalisation-Data-Gated.csv'\n",
    "\n",
    "\n",
    "X, Y, columns_names = load_data(path)"
   ]
  },
  {
   "cell_type": "code",
   "execution_count": null,
   "metadata": {
    "pycharm": {
     "name": "#%%\n"
    }
   },
   "outputs": [],
   "source": [
    "pipeline = Pipeline(X, Y, 15, channel_names=columns_names)\n",
    "\n"
   ]
  },
  {
   "cell_type": "code",
   "execution_count": null,
   "metadata": {
    "pycharm": {
     "name": "#%%\n"
    }
   },
   "outputs": [],
   "source": [
    "pipeline.segment_data()"
   ]
  },
  {
   "cell_type": "code",
   "execution_count": null,
   "metadata": {
    "pycharm": {
     "name": "#%%\n"
    }
   },
   "outputs": [],
   "source": [
    "pipeline.commit_changes()"
   ]
  },
  {
   "cell_type": "code",
   "execution_count": null,
   "metadata": {
    "pycharm": {
     "name": "#%%\n"
    }
   },
   "outputs": [],
   "source": [
    "def interact_pick_channel_segment(pipeline, channel):\n",
    "    channel = columns_names.index(channel)-1\n",
    "    area_threshold_widget  = widgets.FloatSlider(min=0.0, max=0.05, step=0.001, value=pipeline.area_thresholds[channel], )\n",
    "    width_threshold_widget = widgets.FloatSlider(min=0.0, max=0.6, step=.025, value=pipeline.width_thresholds[channel])\n",
    "    depth_threshold_widget = widgets.FloatSlider(min=0.0, max=0.7, step=.025, value=pipeline.depth_thresholds[channel])\n",
    "\n",
    "    interact(interactive_update_segments,\n",
    "         area_threshold = area_threshold_widget,\n",
    "         width_threshold = width_threshold_widget,\n",
    "         depth_threshold = depth_threshold_widget,\n",
    "         channel = fixed(channel),\n",
    "         pipeline=fixed(pipeline))\n",
    "\n",
    "def interactive_update_segments(pipeline, channel, area_threshold, width_threshold,\n",
    "                                depth_threshold):\n",
    "\n",
    "        pipeline.resegment_channel(channel,area_threshold, width_threshold,depth_threshold)\n",
    "\n",
    "\n",
    "        plot_channel_segments(ch=channel,\n",
    "                              samples=pipeline.samples,\n",
    "                               max_per_plt=20,show_labels=False,\n",
    "                              limit_x0=-.2,limit_x1=1.2)\n"
   ]
  },
  {
   "cell_type": "code",
   "execution_count": null,
   "metadata": {
    "pycharm": {
     "name": "#%%\n"
    }
   },
   "outputs": [],
   "source": [
    "ch_widget = widgets.ToggleButtons(\n",
    "    options=columns_names[1:-2],\n",
    "    description='Channel',\n",
    "    disabled=False,\n",
    "    style={\"button_width\": \"100px\"}\n",
    ")\n",
    "\n",
    "ch = ch_widget.index\n",
    "\n",
    "# kde_window_widget = widgets.FloatSlider(min=0.0, max=0.6, step=.025, value=kde_window[ch])\n",
    "interact(interact_pick_channel_segment,\n",
    "         channel = ch_widget,\n",
    "         pipeline=fixed(pipeline))\n"
   ]
  },
  {
   "cell_type": "code",
   "execution_count": null,
   "metadata": {
    "pycharm": {
     "name": "#%%\n"
    }
   },
   "outputs": [],
   "source": [
    "def interactive_recompute_and_update_location_hierarchy_and_refs(pipeline, channel, jaccard_thresholds, mode):\n",
    "    pipeline.recompute_and_update_location_hierarchy_and_refs([channel], jaccard_thresholds)\n",
    "    plot_gates_dendrogram(pipeline.agg_models_dict[channel],channel,\n",
    "                          pipeline.jaccard_thresholds[channel], columns_names[channel+1])\n",
    "    plt.figure()\n",
    "    plot_gate_as_tiles(pipeline.data_handler, channel, pipeline.Loc_Ref_Dict_All_Ch)\n",
    "    if mode==1 or mode ==2:\n",
    "        plt.figure()\n",
    "        plot_network_graph(channel, pipeline.incidence_matrices[channel], pipeline.channel_names)\n",
    "        plt.figure()\n",
    "        sns.heatmap(pipeline.Sim_Matrix_dict[channel], cmap='Blues')\n",
    "        if mode ==2:\n",
    "            plot_channel_segments(ch=channel,\n",
    "                               samples=pipeline.samples,\n",
    "                               max_per_plt=20,show_labels=False, color_fill_lg= True,\n",
    "                               limit_x0=-.2,limit_x1=1.2)\n",
    "def interact_pick_channel_location_grouping(pipeline, channel, mode):\n",
    "    channel = columns_names.index(channel)-1\n",
    "\n",
    "    jaccard_threshold_widget = widgets.FloatSlider(min=0.4, max=0.9,\n",
    "                                                   step=.05, value=pipeline.jaccard_thresholds[channel])\n",
    "\n",
    "\n",
    "    interact(interactive_recompute_and_update_location_hierarchy_and_refs,\n",
    "         jaccard_thresholds = jaccard_threshold_widget,\n",
    "         channel = fixed(channel),\n",
    "            mode = fixed(mode),\n",
    "         pipeline=fixed(pipeline))\n",
    "\n"
   ]
  },
  {
   "cell_type": "code",
   "execution_count": null,
   "metadata": {
    "pycharm": {
     "name": "#%%\n"
    }
   },
   "outputs": [],
   "source": [
    "pipeline.commit_changes()\n",
    "ch_widget = widgets.ToggleButtons(\n",
    "    options=columns_names[1:-2],\n",
    "    description='Channel',\n",
    "    disabled=False,\n",
    "    style={\"button_width\": \"100px\"}\n",
    ")\n",
    "\n",
    "mode_widget = widgets.Dropdown(\n",
    "    options=[0, 1, 2],\n",
    "    value=0,\n",
    "    description='Mode:',\n",
    "    disabled=False,\n",
    ")\n",
    "\n",
    "\n",
    "interact(interact_pick_channel_location_grouping,\n",
    "         channel = ch_widget,\n",
    "         mode = mode_widget,\n",
    "         pipeline=fixed(pipeline))\n"
   ]
  },
  {
   "cell_type": "code",
   "execution_count": null,
   "metadata": {
    "pycharm": {
     "name": "#%%\n"
    }
   },
   "outputs": [],
   "source": [
    "pipeline.Loc_Ref_Dict_All_Ch[0]"
   ]
  },
  {
   "cell_type": "code",
   "execution_count": null,
   "metadata": {
    "pycharm": {
     "name": "#%%\n"
    }
   },
   "outputs": [],
   "source": [
    "pipeline.commit_changes()\n",
    "pipeline.update_morphology_hierarchy_and_refs([0,1])"
   ]
  },
  {
   "cell_type": "code",
   "execution_count": null,
   "outputs": [],
   "source": [
    "import time"
   ],
   "metadata": {
    "collapsed": false,
    "pycharm": {
     "name": "#%%\n"
    }
   }
  },
  {
   "cell_type": "code",
   "execution_count": null,
   "metadata": {
    "pycharm": {
     "name": "#%%\n"
    }
   },
   "outputs": [],
   "source": [
    "time_start = time.time()\n",
    "pipeline.align_samples([0], verbose=True, subsample_ratio=.5)\n",
    "time_end = time.time()"
   ]
  },
  {
   "cell_type": "code",
   "execution_count": null,
   "outputs": [],
   "source": [
    "print(time_end-time_start)"
   ],
   "metadata": {
    "collapsed": false,
    "pycharm": {
     "name": "#%%\n"
    }
   }
  },
  {
   "cell_type": "code",
   "execution_count": null,
   "metadata": {
    "pycharm": {
     "name": "#%%\n"
    }
   },
   "outputs": [],
   "source": [
    "plot_scatter_aligned_vs_original([[1,2]], pipeline, columns_names=pipeline.channel_names)"
   ]
  },
  {
   "cell_type": "code",
   "execution_count": null,
   "metadata": {
    "pycharm": {
     "name": "#%%\n"
    }
   },
   "outputs": [],
   "source": [
    "print(X.shape)\n",
    "import numpy as np\n",
    "import matplotlib.pyplot as plt"
   ]
  },
  {
   "cell_type": "code",
   "execution_count": null,
   "outputs": [],
   "source": [
    "# data_hist = np.ones([60, 15, 256],dtype=np.int)\n",
    "data_hist = {}"
   ],
   "metadata": {
    "collapsed": false,
    "pycharm": {
     "name": "#%%\n"
    }
   }
  },
  {
   "cell_type": "code",
   "execution_count": null,
   "outputs": [],
   "source": [
    "for y in range(60):\n",
    "    sample_hists = np.ones([15, 256], dtype=np.int)\n",
    "    for i in range(15):\n",
    "        x = np.histogram(X[Y==y, i], bins=256)[0]\n",
    "        sample_hists[i, :] = x\n",
    "    # data_hist[y, :, :] = sample_hists\n",
    "    data_hist[y] = sample_hists"
   ],
   "metadata": {
    "collapsed": false,
    "pycharm": {
     "name": "#%%\n"
    }
   }
  },
  {
   "cell_type": "code",
   "execution_count": null,
   "outputs": [],
   "source": [
    "print(data_hist.keys())"
   ],
   "metadata": {
    "collapsed": false,
    "pycharm": {
     "name": "#%%\n"
    }
   }
  },
  {
   "cell_type": "code",
   "execution_count": null,
   "outputs": [],
   "source": [
    "import scipy.io as sio"
   ],
   "metadata": {
    "collapsed": false,
    "pycharm": {
     "name": "#%%\n"
    }
   }
  },
  {
   "cell_type": "code",
   "execution_count": null,
   "outputs": [],
   "source": [
    "save_path = '..\\\\..\\\\data\\\\60_mice_15_channels_hists.mat'\n",
    "np.savetxt(path,data_hist,delimiter=',',header=columns_names[1:-2],\n",
    "                   fmt=','.join(['%i'] * 15), comments='')"
   ],
   "metadata": {
    "collapsed": false,
    "pycharm": {
     "name": "#%%\n"
    }
   }
  },
  {
   "cell_type": "code",
   "execution_count": null,
   "outputs": [],
   "source": [
    "df = pd.DataFrame(data_hist.items())"
   ],
   "metadata": {
    "collapsed": false,
    "pycharm": {
     "name": "#%%\n"
    }
   }
  },
  {
   "cell_type": "code",
   "execution_count": null,
   "outputs": [],
   "source": [
    "save_path = '..\\\\..\\\\data\\\\60_mice_15_channels_hists.xlsx'\n",
    "df.to_excel(save_path)"
   ],
   "metadata": {
    "collapsed": false,
    "pycharm": {
     "name": "#%%\n"
    }
   }
  },
  {
   "cell_type": "code",
   "execution_count": null,
   "outputs": [],
   "source": [
    "df1 = pd.read_excel(save_path)"
   ],
   "metadata": {
    "collapsed": false,
    "pycharm": {
     "name": "#%%\n"
    }
   }
  },
  {
   "cell_type": "code",
   "execution_count": null,
   "outputs": [],
   "source": [
    "print(df1[1][1])"
   ],
   "metadata": {
    "collapsed": false,
    "pycharm": {
     "name": "#%%\n"
    }
   }
  },
  {
   "cell_type": "code",
   "execution_count": null,
   "outputs": [],
   "source": [],
   "metadata": {
    "collapsed": false,
    "pycharm": {
     "name": "#%%\n"
    }
   }
  }
 ],
 "metadata": {
  "kernelspec": {
   "display_name": "Python 3",
   "language": "python",
   "name": "python3"
  },
  "language_info": {
   "codemirror_mode": {
    "name": "ipython",
    "version": 3
   },
   "file_extension": ".py",
   "mimetype": "text/x-python",
   "name": "python",
   "nbconvert_exporter": "python",
   "pygments_lexer": "ipython3",
   "version": "3.8.5"
  }
 },
 "nbformat": 4,
 "nbformat_minor": 1
}
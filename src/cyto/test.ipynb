{
 "cells": [
  {
   "cell_type": "code",
   "execution_count": 3,
   "metadata": {
    "collapsed": true
   },
   "outputs": [],
   "source": [
    "import numpy as np\n",
    "from collections import deque\n",
    "\n",
    "# Implementation of:\n",
    "# Pierre Soille, Luc M. Vincent, \"Determining watersheds in digital pictures via\n",
    "# flooding simulations\", Proc. SPIE 1360, Visual Communications and Image Processing\n",
    "# '90: Fifth in a Series, (1 September 1990); doi: 10.1117/12.24211;\n",
    "# http://dx.doi.org/10.1117/12.24211\n",
    "class Watershed(object):\n",
    "   MASK = -2\n",
    "   WSHD = 0\n",
    "   INIT = -1\n",
    "   INQE = -3\n",
    "\n",
    "   def __init__(self, levels = 256):\n",
    "      self.levels = levels\n",
    "\n",
    "   # Neighbour (coordinates of) pixels, including the given pixel.\n",
    "   def _get_neighbors(self, height, width, pixel):\n",
    "      return np.mgrid[\n",
    "         max(0, pixel[0] - 1):min(height, pixel[0] + 2),\n",
    "         max(0, pixel[1] - 1):min(width, pixel[1] + 2)\n",
    "      ].reshape(2, -1).T\n",
    "\n",
    "   def apply(self, image):\n",
    "      current_label = 0\n",
    "      flag = False\n",
    "      fifo = deque()\n",
    "\n",
    "      height, width = image.shape\n",
    "      total = height * width\n",
    "      labels = np.full((height, width), self.INIT, np.int32)\n",
    "\n",
    "      reshaped_image = image.reshape(total)\n",
    "      # [y, x] pairs of pixel coordinates of the flattened image.\n",
    "      pixels = np.mgrid[0:height, 0:width].reshape(2, -1).T\n",
    "      # Coordinates of neighbour pixels for each pixel.\n",
    "      neighbours = np.array([self._get_neighbors(height, width, p) for p in pixels])\n",
    "      if len(neighbours.shape) == 3:\n",
    "         # Case where all pixels have the same number of neighbours.\n",
    "         neighbours = neighbours.reshape(height, width, -1, 2)\n",
    "      else:\n",
    "         # Case where pixels may have a different number of pixels.\n",
    "         neighbours = neighbours.reshape(height, width)\n",
    "\n",
    "      indices = np.argsort(reshaped_image)\n",
    "      sorted_image = reshaped_image[indices]\n",
    "      sorted_pixels = pixels[indices]\n",
    "\n",
    "      # self.levels evenly spaced steps from minimum to maximum.\n",
    "      levels = np.linspace(sorted_image[0], sorted_image[-1], self.levels)\n",
    "      level_indices = []\n",
    "      current_level = 0\n",
    "\n",
    "      # Get the indices that deleimit pixels with different values.\n",
    "      for i in range(total):\n",
    "         if sorted_image[i] > levels[current_level]:\n",
    "            # Skip levels until the next highest one is reached.\n",
    "            while sorted_image[i] > levels[current_level]: current_level += 1\n",
    "            level_indices.append(i)\n",
    "      level_indices.append(total)\n",
    "\n",
    "      start_index = 0\n",
    "      for stop_index in level_indices:\n",
    "         # Mask all pixels at the current level.\n",
    "         for p in sorted_pixels[start_index:stop_index]:\n",
    "            labels[p[0], p[1]] = self.MASK\n",
    "            # Initialize queue with neighbours of existing basins at the current level.\n",
    "            for q in neighbours[p[0], p[1]]:\n",
    "               # p == q is ignored here because labels[p] < WSHD\n",
    "               if labels[q[0], q[1]] >= self.WSHD:\n",
    "                  labels[p[0], p[1]] = self.INQE\n",
    "                  fifo.append(p)\n",
    "                  break\n",
    "\n",
    "         # Extend basins.\n",
    "         while fifo:\n",
    "            p = fifo.popleft()\n",
    "            # Label p by inspecting neighbours.\n",
    "            for q in neighbours[p[0], p[1]]:\n",
    "               # Don't set lab_p in the outer loop because it may change.\n",
    "               lab_p = labels[p[0], p[1]]\n",
    "               lab_q = labels[q[0], q[1]]\n",
    "               if lab_q > 0:\n",
    "                  if lab_p == self.INQE or (lab_p == self.WSHD and flag):\n",
    "                     labels[p[0], p[1]] = lab_q\n",
    "                  elif lab_p > 0 and lab_p != lab_q:\n",
    "                     labels[p[0], p[1]] = self.WSHD\n",
    "                     flag = False\n",
    "               elif lab_q == self.WSHD:\n",
    "                  if lab_p == self.INQE:\n",
    "                     labels[p[0], p[1]] = self.WSHD\n",
    "                     flag = True\n",
    "               elif lab_q == self.MASK:\n",
    "                  labels[q[0], q[1]] = self.INQE\n",
    "                  fifo.append(q)\n",
    "\n",
    "         # Detect and process new minima at the current level.\n",
    "         for p in sorted_pixels[start_index:stop_index]:\n",
    "            # p is inside a new minimum. Create a new label.\n",
    "            if labels[p[0], p[1]] == self.MASK:\n",
    "               current_label += 1\n",
    "               fifo.append(p)\n",
    "               labels[p[0], p[1]] = current_label\n",
    "               while fifo:\n",
    "                  q = fifo.popleft()\n",
    "                  for r in neighbours[q[0], q[1]]:\n",
    "                     if labels[r[0], r[1]] == self.MASK:\n",
    "                        fifo.append(r)\n",
    "                        labels[r[0], r[1]] = current_label\n",
    "\n",
    "         start_index = stop_index\n",
    "\n",
    "      return labels"
   ]
  },
  {
   "cell_type": "code",
   "execution_count": 5,
   "outputs": [],
   "source": [
    "import matplotlib.pyplot as plt\n",
    "import PIL\n",
    "from PIL import Image"
   ],
   "metadata": {
    "collapsed": false,
    "pycharm": {
     "name": "#%%\n"
    }
   }
  },
  {
   "cell_type": "code",
   "execution_count": 39,
   "outputs": [
    {
     "name": "stderr",
     "output_type": "stream",
     "text": [
      "<ipython-input-3-9adf9e252c00>:38: VisibleDeprecationWarning: Creating an ndarray from ragged nested sequences (which is a list-or-tuple of lists-or-tuples-or ndarrays with different lengths or shapes) is deprecated. If you meant to do this, you must specify 'dtype=object' when creating the ndarray\n",
      "  neighbours = np.array([self._get_neighbors(height, width, p) for p in pixels])\n"
     ]
    }
   ],
   "source": [
    "w = Watershed()\n",
    "image = Image.open(r'C:\\\\Users\\\\Muhammad_Saeed\\\\Desktop\\\\flow cyto paper\\\\Figure_31.png')\n",
    "image = np.array(image)[...,:-1].mean(axis=-1)\n",
    "s = 70\n",
    "image[s:s+5,:] = 110\n",
    "labels = w.apply(image)"
   ],
   "metadata": {
    "collapsed": false,
    "pycharm": {
     "name": "#%%\n"
    }
   }
  },
  {
   "cell_type": "code",
   "execution_count": 37,
   "outputs": [
    {
     "data": {
      "text/plain": "<matplotlib.image.AxesImage at 0x218bbabfca0>"
     },
     "execution_count": 37,
     "metadata": {},
     "output_type": "execute_result"
    },
    {
     "data": {
      "text/plain": "<Figure size 432x288 with 1 Axes>",
      "image/png": "[encoded data removed]"
     },
     "metadata": {
      "needs_background": "light"
     },
     "output_type": "display_data"
    }
   ],
   "source": [
    "plt.imshow(image,'gray')\n",
    "# plt.imshow(labels,'gray')"
   ],
   "metadata": {
    "collapsed": false,
    "pycharm": {
     "name": "#%%\n"
    }
   }
  },
  {
   "cell_type": "code",
   "execution_count": 40,
   "outputs": [
    {
     "name": "stdout",
     "output_type": "stream",
     "text": [
      "[1]\n"
     ]
    }
   ],
   "source": [
    "print(np.unique(labels))"
   ],
   "metadata": {
    "collapsed": false,
    "pycharm": {
     "name": "#%%\n"
    }
   }
  },
  {
   "cell_type": "code",
   "execution_count": null,
   "outputs": [],
   "source": [],
   "metadata": {
    "collapsed": false,
    "pycharm": {
     "name": "#%%\n"
    }
   }
  }
 ],
 "metadata": {
  "kernelspec": {
   "display_name": "Python 3",
   "language": "python",
   "name": "python3"
  },
  "language_info": {
   "codemirror_mode": {
    "name": "ipython",
    "version": 2
   },
   "file_extension": ".py",
   "mimetype": "text/x-python",
   "name": "python",
   "nbconvert_exporter": "python",
   "pygments_lexer": "ipython2",
   "version": "2.7.6"
  }
 },
 "nbformat": 4,
 "nbformat_minor": 0
}
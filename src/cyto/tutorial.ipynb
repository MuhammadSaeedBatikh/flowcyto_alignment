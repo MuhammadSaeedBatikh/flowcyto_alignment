{
 "cells": [
  {
   "cell_type": "code",
   "execution_count": 1,
   "metadata": {
    "collapsed": true
   },
   "outputs": [],
   "source": [
    "import seaborn as sns\n",
    "\n",
    "from ..cyto.helpers import *\n",
    "from ..cyto.alignment import *\n",
    "from ..cyto.pipeline import *\n",
    "from ..cyto.visualization import *\n",
    "from ..cyto.grouping import *\n",
    "from ..cyto.segmentation import *\n",
    "from copy import deepcopy"
   ]
  },
  {
   "cell_type": "code",
   "execution_count": 105,
   "outputs": [
    {
     "name": "stderr",
     "output_type": "stream",
     "text": [
      "C:\\Users\\Muhammad_Saeed\\anaconda3\\lib\\site-packages\\seaborn\\distributions.py:2551: FutureWarning: `distplot` is a deprecated function and will be removed in a future version. Please adapt your code to use either `displot` (a figure-level function with similar flexibility) or `kdeplot` (an axes-level function for kernel density plots).\n",
      "  warnings.warn(msg, FutureWarning)\n",
      "C:\\Users\\Muhammad_Saeed\\anaconda3\\lib\\site-packages\\seaborn\\distributions.py:2551: FutureWarning: `distplot` is a deprecated function and will be removed in a future version. Please adapt your code to use either `displot` (a figure-level function with similar flexibility) or `kdeplot` (an axes-level function for kernel density plots).\n",
      "  warnings.warn(msg, FutureWarning)\n",
      "C:\\Users\\Muhammad_Saeed\\anaconda3\\lib\\site-packages\\seaborn\\distributions.py:2551: FutureWarning: `distplot` is a deprecated function and will be removed in a future version. Please adapt your code to use either `displot` (a figure-level function with similar flexibility) or `kdeplot` (an axes-level function for kernel density plots).\n",
      "  warnings.warn(msg, FutureWarning)\n"
     ]
    },
    {
     "data": {
      "text/plain": "<AxesSubplot:ylabel='Density'>"
     },
     "execution_count": 105,
     "metadata": {},
     "output_type": "execute_result"
    }
   ],
   "source": [
    "import numpy as np\n",
    "import matplotlib.pyplot as plt\n",
    "\n",
    "z = np.random.normal(0,.4, [2,10000])\n",
    "z1 = np.concatenate([z,z+2], axis=1)\n",
    "z2 = .9*z1+.5\n",
    "z3 = 1.1*z+.2\n",
    "z4 = 1.1*z+4\n",
    "\n",
    "sns.distplot(z1, hist=False, kde_kws={'bw_method':.3})\n",
    "sns.distplot(z2, hist=False, kde_kws={'bw_method':.3})\n",
    "sns.distplot(z3, hist=False, kde_kws={'bw_method':.3})"
   ],
   "metadata": {
    "collapsed": false,
    "pycharm": {
     "name": "#%%\n"
    }
   }
  },
  {
   "cell_type": "code",
   "execution_count": 106,
   "outputs": [
    {
     "name": "stdout",
     "output_type": "stream",
     "text": [
      "(2, 10000)\n",
      "(2, 20000)\n",
      "(2, 20000)\n",
      "(2, 10000)\n",
      "(2, 10000)\n"
     ]
    }
   ],
   "source": [
    "print(z.shape)\n",
    "print(z1.shape)\n",
    "print(z2.shape)\n",
    "print(z3.shape)\n",
    "print(z4.shape)"
   ],
   "metadata": {
    "collapsed": false,
    "pycharm": {
     "name": "#%%\n"
    }
   }
  },
  {
   "cell_type": "code",
   "execution_count": 107,
   "outputs": [],
   "source": [
    "def plot_pdf(z, shift=0, m =1):\n",
    "    kde = sns._statistics.KDE(bw_method=.3)\n",
    "    pd, t = kde(x1=z.flatten())\n",
    "    plt.plot(t, m*pd+shift, c='b')"
   ],
   "metadata": {
    "collapsed": false,
    "pycharm": {
     "name": "#%%\n"
    }
   }
  },
  {
   "cell_type": "code",
   "execution_count": 108,
   "outputs": [],
   "source": [
    "plot_pdf(z1[0,:], shift=1)\n",
    "plot_pdf(z2[0,:], shift=.5)\n",
    "plot_pdf(z3[0,:], shift=0, m=.5)\n",
    "plot_pdf(z4[0,:], shift=-.5, m=.5)"
   ],
   "metadata": {
    "collapsed": false,
    "pycharm": {
     "name": "#%%\n"
    }
   }
  },
  {
   "cell_type": "code",
   "execution_count": 109,
   "outputs": [],
   "source": [],
   "metadata": {
    "collapsed": false,
    "pycharm": {
     "name": "#%%\n"
    }
   }
  },
  {
   "cell_type": "code",
   "execution_count": 110,
   "outputs": [
    {
     "name": "stdout",
     "output_type": "stream",
     "text": [
      "width 0.285 depth 0.7039122394281458 width_cond False\n",
      "0.005 0.2 0.2\n",
      "bounds [[-2.629982851409088, 1.0181502129482474], [1.0181502129482474, 4.418351903999745]]\n",
      "tightened_bounds [[-0.7022029084738219, 0.7072255717661627], [1.301041993069059, 2.702491085749553]]\n",
      "width 0.285 depth 0.7039122394281458 width_cond False\n",
      "0.005 0.2 0.2\n",
      "bounds [[-1.8669845662681797, 1.4163351916534224], [1.4163351916534224, 4.4765167135997705]]\n",
      "tightened_bounds [[-0.13198261762643967, 1.1365030145895465], [1.6709377937621532, 2.9322419771745976]]\n",
      "0.005 0.2 0.2\n",
      "bounds [[-2.021236116350326, 2.188442074200048]]\n",
      "tightened_bounds [[-0.5726534872795389, 0.9714929476180181]]\n",
      "0.005 0.2 0.2\n",
      "bounds [[1.7787638836496742, 5.988442074200048]]\n",
      "tightened_bounds [[3.2273465127204615, 4.771492947618018]]\n",
      "{0: [(Sample_num: 0, Ch: 0, Gate_num: 0 \n",
      "Gate: [-2.629, 1.018], Segment_min_max: -1.661, 1.016 \n",
      "Location_group: 0, Morphology_group: 0, Overall_Indx: 0, Aligned_flag: 0)\n",
      ", (Sample_num: 0, Ch: 0, Gate_num: 1 \n",
      "Gate: [1.018, 4.418], Segment_min_max: 1.018, 3.449 \n",
      "Location_group: 0, Morphology_group: 0, Overall_Indx: 1, Aligned_flag: 0)\n",
      ", (Sample_num: 1, Ch: 0, Gate_num: 0 \n",
      "Gate: [-1.866, 1.416], Segment_min_max: -0.995, 1.415 \n",
      "Location_group: 0, Morphology_group: 0, Overall_Indx: 2, Aligned_flag: 0)\n",
      ", (Sample_num: 1, Ch: 0, Gate_num: 1 \n",
      "Gate: [1.416, 4.476], Segment_min_max: 1.416, 3.604 \n",
      "Location_group: 0, Morphology_group: 0, Overall_Indx: 3, Aligned_flag: 0)\n",
      ", (Sample_num: 2, Ch: 0, Gate_num: 0 \n",
      "Gate: [-2.021, 2.188], Segment_min_max: -1.627, 1.794 \n",
      "Location_group: 0, Morphology_group: 0, Overall_Indx: 4, Aligned_flag: 0)\n",
      ", (Sample_num: 3, Ch: 0, Gate_num: 0 \n",
      "Gate: [1.778, 5.988], Segment_min_max: 2.172, 5.594 \n",
      "Location_group: 0, Morphology_group: 0, Overall_Indx: 5, Aligned_flag: 0)\n",
      "]}\n"
     ]
    }
   ],
   "source": [
    "samples = []\n",
    "for i, zz in enumerate([z1,z2,z3,z4]):\n",
    "    s = Sample(zz.T,[-1],i)\n",
    "    samples+=[s]\n",
    "data_handler = DataHandler(samples)"
   ],
   "metadata": {
    "collapsed": false,
    "pycharm": {
     "name": "#%%\n"
    }
   }
  },
  {
   "cell_type": "code",
   "execution_count": 523,
   "outputs": [],
   "source": [
    "samples.reverse()"
   ],
   "metadata": {
    "collapsed": false,
    "pycharm": {
     "name": "#%%\n"
    }
   }
  },
  {
   "cell_type": "code",
   "execution_count": 591,
   "outputs": [],
   "source": [
    "plot_channel_segments(0, samples, show_labels=False,limit_x0=-2, limit_x1=6)"
   ],
   "metadata": {
    "collapsed": false,
    "pycharm": {
     "name": "#%%\n"
    }
   }
  },
  {
   "cell_type": "code",
   "execution_count": 112,
   "outputs": [],
   "source": [
    "Sim_Matrix_dict = {}\n",
    "agg_models_dict = {}\n",
    "location_groups_dict = {}\n",
    "Loc_Ref_Dict_All_Ch = {}\n",
    "incidence_matrcies = {}\n",
    "loosened_groups_for_deadlock_dict = {}\n",
    "jaccard_thresholds = [0.6]*2"
   ],
   "metadata": {
    "collapsed": false,
    "pycharm": {
     "name": "#%%\n"
    }
   }
  },
  {
   "cell_type": "code",
   "execution_count": 113,
   "outputs": [
    {
     "name": "stdout",
     "output_type": "stream",
     "text": [
      "ch 0\n",
      "here\n",
      "Unique groups [1 2 3] \n",
      "\n",
      "\n",
      "[[2. 0. 2.]\n",
      " [0. 1. 0.]\n",
      " [2. 0. 3.]]\n",
      "[1, 3]\n",
      "optimal gates:\n",
      "(1, 0, 0.0) [1.0181502129482474, 4.418351903999745]\n",
      "(2, 3, 0.0) [1.7787638836496742, 5.988442074200048]\n",
      "(3, 0, 0.0) [-2.629982851409088, 1.0181502129482474]\n",
      "constraints [[1, 3]]\n",
      "iter 0 [[1, 3]]\n"
     ]
    }
   ],
   "source": [
    "update_location_hierarchy_and_refs(\n",
    "                                channels=[0],\n",
    "                                jaccard_thresholds=jaccard_thresholds,\n",
    "                                data_handler=data_handler,\n",
    "                                Sim_Matrix_dict=Sim_Matrix_dict,\n",
    "                                agg_models_dict=agg_models_dict,\n",
    "                                location_groups_dict=location_groups_dict,\n",
    "                                Loc_Ref_Dict_All_Ch=Loc_Ref_Dict_All_Ch,\n",
    "                                incidence_matrcies = incidence_matrcies,\n",
    "    loosened_groups_for_deadlock_dict = loosened_groups_for_deadlock_dict\n",
    "                                   )\n",
    "\n",
    "data_handler = DataHandler(samples, verbose=False)"
   ],
   "metadata": {
    "collapsed": false,
    "pycharm": {
     "name": "#%%\n"
    }
   }
  },
  {
   "cell_type": "code",
   "execution_count": 516,
   "outputs": [
    {
     "data": {
      "text/plain": "<AxesSubplot:>"
     },
     "execution_count": 516,
     "metadata": {},
     "output_type": "execute_result"
    }
   ],
   "source": [
    "plt.figure()\n",
    "sns.heatmap(1-Sim_Matrix_dict[0], cmap='Blues', annot=False)"
   ],
   "metadata": {
    "collapsed": false,
    "pycharm": {
     "name": "#%%\n"
    }
   }
  },
  {
   "cell_type": "code",
   "execution_count": 522,
   "outputs": [],
   "source": [
    "dendrogram = plot_gates_dendrogram(agg_models_dict[0], ch='', jacc_threshold=.6,show_title=False, gatefontsize=30 ,yfontsize=30)"
   ],
   "metadata": {
    "collapsed": false,
    "pycharm": {
     "name": "#%%\n"
    }
   }
  },
  {
   "cell_type": "code",
   "execution_count": 482,
   "outputs": [
    {
     "name": "stdout",
     "output_type": "stream",
     "text": [
      "None\n"
     ]
    }
   ],
   "source": [],
   "metadata": {
    "collapsed": false,
    "pycharm": {
     "name": "#%%\n"
    }
   }
  },
  {
   "cell_type": "code",
   "execution_count": 620,
   "outputs": [
    {
     "data": {
      "text/plain": "(-0.975887701278414, 5.04517774042261, -0.15000000000000002, 3.15)"
     },
     "execution_count": 620,
     "metadata": {},
     "output_type": "execute_result"
    }
   ],
   "source": [
    "\n",
    "plt.figure()\n",
    "plot_gate_as_tiles(data_handler,0,Loc_Ref_Dict_All_Ch=None, rev=1, shift_color =5,color_tiles=False, show_ref=False, tight=True, show_num=True)\n",
    "plt.axis(False)\n",
    "plt.figure()\n",
    "plot_gate_as_tiles(data_handler,0,Loc_Ref_Dict_All_Ch=None, rev=1, shift_color =5,color_tiles=False, show_ref=False, tight=False, show_num=True)\n",
    "plt.axis(False)\n",
    "plt.figure()\n",
    "plot_gate_as_tiles(data_handler,0,Loc_Ref_Dict_All_Ch, rev=1, shift_color =3,color_tiles=True, show_ref=False, tight=True, show_num=True)\n",
    "plt.axis(False)\n",
    "plt.figure()\n",
    "plot_gate_as_tiles(data_handler,0,Loc_Ref_Dict_All_Ch, rev=1, shift_color =3,color_tiles=True, show_ref=True, tight=True, show_num=True)\n",
    "plt.axis(False)"
   ],
   "metadata": {
    "collapsed": false,
    "pycharm": {
     "name": "#%%\n"
    }
   }
  },
  {
   "cell_type": "code",
   "execution_count": 619,
   "outputs": [
    {
     "name": "stdout",
     "output_type": "stream",
     "text": [
      "[[0, 0], [0, 2], [1, 1], [2, 2]]\n"
     ]
    }
   ],
   "source": [
    "plot_network_graph(0, incidence_matrcies[0])"
   ],
   "metadata": {
    "collapsed": false,
    "pycharm": {
     "name": "#%%\n"
    }
   }
  },
  {
   "cell_type": "code",
   "execution_count": 624,
   "outputs": [],
   "source": [
    "samples.reverse()"
   ],
   "metadata": {
    "collapsed": false,
    "pycharm": {
     "name": "#%%\n"
    }
   }
  },
  {
   "cell_type": "code",
   "execution_count": 625,
   "outputs": [
    {
     "name": "stdout",
     "output_type": "stream",
     "text": [
      "3\n",
      "1\n",
      "3\n",
      "1\n",
      "3\n",
      "2\n"
     ]
    }
   ],
   "source": [
    "plotted_lr = []\n",
    "samples_pds = {}\n",
    "counter = 0\n",
    "color_by_location = False\n",
    "for sh, samp in enumerate(samples):\n",
    "    shift = sh*.47\n",
    "    gates =[g for g in  samp.gates[0]]\n",
    "    kde = sns._statistics.KDE(bw_method=.3)\n",
    "    pd, t = kde(x1=samp(0).flatten())\n",
    "    samples_pds[sh]= [t, pd]\n",
    "    for k, gate in enumerate(gates):\n",
    "        seg = gate.gate\n",
    "        ind = np.logical_and(t>= seg[0], t<= seg[1])\n",
    "        tt = t[ind]\n",
    "        ppd = pd[ind]\n",
    "        m = 1 if len(gates)>1 else .5\n",
    "        print(gate.location_group)\n",
    "        lg = gate.location_group\n",
    "        gate_num = counter\n",
    "        counter+=1\n",
    "        amx = np.argmax(ppd)\n",
    "        plt.text(tt[amx],m*ppd.min()+shift+.1, f'{gate_num}' ,color='w', fontsize=12)\n",
    "        col = colors[lg+3] if color_by_location else colors[k+5]\n",
    "        if lg not in plotted_lr:\n",
    "            plt.fill_between(tt, m*ppd+shift, shift, color = col, label=f'Location Group: {len(plotted_lr)}')\n",
    "            plotted_lr+=[lg]\n",
    "        else:\n",
    "            plt.fill_between(tt, m*ppd+shift,shift, color = col)\n",
    "\n",
    "plt.axis(False)\n",
    "if color_by_location:\n",
    "    plt.legend(loc='upper left')"
   ],
   "metadata": {
    "collapsed": false,
    "pycharm": {
     "name": "#%%\n"
    }
   }
  },
  {
   "cell_type": "code",
   "execution_count": 152,
   "outputs": [],
   "source": [
    "from ..cyto.segmentation import *\n",
    "from skimage.segmentation import watershed"
   ],
   "metadata": {
    "collapsed": false,
    "pycharm": {
     "name": "#%%\n"
    }
   }
  },
  {
   "cell_type": "code",
   "execution_count": 251,
   "outputs": [
    {
     "name": "stdout",
     "output_type": "stream",
     "text": [
      "['blue', 'orange', 'g', 'r', 'coral', 'cyan', 'm', 'steelblue', 'brown', 'y', 'gray', 'k']\n"
     ]
    }
   ],
   "source": [
    "print(colors)"
   ],
   "metadata": {
    "collapsed": false,
    "pycharm": {
     "name": "#%%\n"
    }
   }
  },
  {
   "cell_type": "code",
   "execution_count": 428,
   "outputs": [
    {
     "name": "stdout",
     "output_type": "stream",
     "text": [
      "[[-3.0134043921465006, 0.8973535618827131], [0.8973535618827131, 3.2019073562213567], [3.2019073562213567, 6.83332545639134], [6.83332545639134, 10.88375333735017]]\n"
     ]
    }
   ],
   "source": [
    "fill_colors = ['slateblue', 'lightskyblue','cyan', 'cornflowerblue']\n",
    "z = np.random.normal(0,.31, [2,8000])\n",
    "z = np.concatenate([z,z+1.7, z+4.6, z[:,:500]+8], axis=1)\n",
    "kde = sns._statistics.KDE(bw_method=.3)\n",
    "pd, t = kde(x1=z.flatten())\n",
    "\n",
    "plt.figure()\n",
    "plt.plot(t, pd)\n",
    "plt.scatter(z[0,:], np.random.uniform(-.002,.008,z.shape[1]), s=.001,c='b')\n",
    "plt.scatter(np.random.uniform(-2,9,1000), np.random.uniform(-.002,.008, 1000),c='b', s=.001)\n",
    "plt.axis(False)\n",
    "plt.figure()\n",
    "plt.plot(t, -pd)\n",
    "plt.axis(False)\n",
    "\n",
    "pd_s = watershed(-pd)\n",
    "wl = get_watershed_lines_from_labeled_segs(pd_s, t)\n",
    "# wl[1] = wl[1]-.02\n",
    "segs = convert_watershed_lines_to_gate(wl)\n",
    "print(segs)\n",
    "inds = [np.argmin(np.abs(t-l)) for l in wl]\n",
    "wl_ys = -pd[inds][1:-1]\n",
    "for j, v in enumerate(wl_ys):\n",
    "    plt.figure()\n",
    "    plt.axis(False)\n",
    "    plt.plot(t, -pd)\n",
    "    plt.axhline(v, )\n",
    "    for k, seg in enumerate(segs):\n",
    "        ind = np.logical_and(t>= seg[0], t<= seg[1])\n",
    "        tt = t[ind]\n",
    "        ppd = pd[ind]\n",
    "        fill_curve = deepcopy(-ppd)\n",
    "        fill_curve[fill_curve<v] = v\n",
    "        plt.fill_between(tt, -ppd,fill_curve, color = fill_colors[k])\n",
    "    # if j<len(wl_ys):\n",
    "    for jj in range(j+1):\n",
    "        plt.plot([segs[jj][1]]*10,np.linspace(wl_ys[jj],0.01,10), color='k', linestyle ='--')"
   ],
   "metadata": {
    "collapsed": false,
    "pycharm": {
     "name": "#%%\n"
    }
   }
  },
  {
   "cell_type": "code",
   "execution_count": 397,
   "outputs": [],
   "source": [
    "markers = ['s','^','o','x']\n",
    "def plot_segments_pd(t, pd, segs, shift_color=0):\n",
    "    plt.figure()\n",
    "    for i, seg in enumerate(segs):\n",
    "        ind = np.logical_and(t>= seg[0], t<= seg[1])\n",
    "        tt = t[ind]\n",
    "        ppd = pd[ind]\n",
    "        plt.fill_between(tt, ppd, color= fill_colors[i+shift_color], linestyle='-', label =f'Segment {i}')\n",
    "    plt.legend(loc='upper right')\n",
    "    plt.axis(False)\n",
    "    return plt.gca()"
   ],
   "metadata": {
    "collapsed": false,
    "pycharm": {
     "name": "#%%\n"
    }
   }
  },
  {
   "cell_type": "code",
   "execution_count": 394,
   "outputs": [
    {
     "data": {
      "text/plain": "<AxesSubplot:>"
     },
     "execution_count": 394,
     "metadata": {},
     "output_type": "execute_result"
    }
   ],
   "source": [
    "plot_segments_pd(t, pd, segs)"
   ],
   "metadata": {
    "collapsed": false,
    "pycharm": {
     "name": "#%%\n"
    }
   }
  },
  {
   "cell_type": "code",
   "execution_count": 395,
   "outputs": [
    {
     "data": {
      "text/plain": "<AxesSubplot:>"
     },
     "execution_count": 395,
     "metadata": {},
     "output_type": "execute_result"
    }
   ],
   "source": [
    "pd_sa = non_maximum_suppression(pd, pd_s,.1)\n",
    "pd_sa = merge(pd_sa)\n",
    "wl_a = get_watershed_lines_from_labeled_segs(pd_sa, t)\n",
    "segs_a = convert_watershed_lines_to_gate(wl_a)\n",
    "plot_segments_pd(t,pd, segs_a)"
   ],
   "metadata": {
    "collapsed": false,
    "pycharm": {
     "name": "#%%\n"
    }
   }
  },
  {
   "cell_type": "code",
   "execution_count": 427,
   "outputs": [
    {
     "name": "stdout",
     "output_type": "stream",
     "text": [
      "width 0.1 depth 0.10085444637840238 width_cond True\n",
      "width 0.215 depth 0.7810054676495543 width_cond False\n"
     ]
    },
    {
     "data": {
      "text/plain": "<AxesSubplot:>"
     },
     "execution_count": 427,
     "metadata": {},
     "output_type": "execute_result"
    }
   ],
   "source": [
    "pd_swd = suppress_and_merge_tiny_basins(pd,pd_sa, .2,.2)\n",
    "wl_wd = get_watershed_lines_from_labeled_segs(pd_swd, t)\n",
    "segs_wd = convert_watershed_lines_to_gate(wl_wd)\n",
    "plot_segments_pd(t,pd, segs_wd,shift_color=1)\n"
   ],
   "metadata": {
    "collapsed": false,
    "pycharm": {
     "name": "#%%\n"
    }
   }
  },
  {
   "cell_type": "code",
   "execution_count": null,
   "outputs": [],
   "source": [],
   "metadata": {
    "collapsed": false,
    "pycharm": {
     "name": "#%%\n"
    }
   }
  }
 ],
 "metadata": {
  "kernelspec": {
   "display_name": "Python 3",
   "language": "python",
   "name": "python3"
  },
  "language_info": {
   "codemirror_mode": {
    "name": "ipython",
    "version": 2
   },
   "file_extension": ".py",
   "mimetype": "text/x-python",
   "name": "python",
   "nbconvert_exporter": "python",
   "pygments_lexer": "ipython2",
   "version": "2.7.6"
  }
 },
 "nbformat": 4,
 "nbformat_minor": 0
}
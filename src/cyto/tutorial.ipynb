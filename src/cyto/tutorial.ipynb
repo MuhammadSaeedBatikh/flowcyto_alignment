{
 "cells": [
  {
   "cell_type": "code",
   "execution_count": 1,
   "metadata": {
    "collapsed": true
   },
   "outputs": [],
   "source": [
    "import seaborn as sns\n",
    "\n",
    "from helpers import *\n",
    "from alignment import *\n",
    "from pipeline import *\n",
    "from visualization import *\n",
    "from grouping import *\n",
    "from segmentation import *\n",
    "from copy import deepcopy"
   ]
  },
  {
   "cell_type": "code",
   "execution_count": 18,
   "outputs": [
    {
     "name": "stderr",
     "output_type": "stream",
     "text": [
      "C:\\Users\\Muhammad_Saeed\\anaconda3\\lib\\site-packages\\seaborn\\distributions.py:2551: FutureWarning: `distplot` is a deprecated function and will be removed in a future version. Please adapt your code to use either `displot` (a figure-level function with similar flexibility) or `kdeplot` (an axes-level function for kernel density plots).\n",
      "  warnings.warn(msg, FutureWarning)\n",
      "C:\\Users\\Muhammad_Saeed\\anaconda3\\lib\\site-packages\\seaborn\\distributions.py:2551: FutureWarning: `distplot` is a deprecated function and will be removed in a future version. Please adapt your code to use either `displot` (a figure-level function with similar flexibility) or `kdeplot` (an axes-level function for kernel density plots).\n",
      "  warnings.warn(msg, FutureWarning)\n",
      "C:\\Users\\Muhammad_Saeed\\anaconda3\\lib\\site-packages\\seaborn\\distributions.py:2551: FutureWarning: `distplot` is a deprecated function and will be removed in a future version. Please adapt your code to use either `displot` (a figure-level function with similar flexibility) or `kdeplot` (an axes-level function for kernel density plots).\n",
      "  warnings.warn(msg, FutureWarning)\n"
     ]
    },
    {
     "data": {
      "text/plain": "<AxesSubplot:ylabel='Density'>"
     },
     "execution_count": 18,
     "metadata": {},
     "output_type": "execute_result"
    }
   ],
   "source": [
    "import numpy as np\n",
    "import matplotlib.pyplot as plt\n",
    "\n",
    "z = np.random.normal(0,.47, [2,10000])\n",
    "z1 = np.concatenate([z,z+4], axis=1)\n",
    "z2 = np.concatenate([z,z+1.9], axis=1)\n",
    "z3 = np.concatenate([z+2,z+4], axis=1)\n",
    "# z2 = .9*z1+.5\n",
    "# z3 = 1.1*z+.2\n",
    "# z4 = 1.1*z+4\n",
    "\n",
    "sns.distplot(z1, hist=False, kde_kws={'bw_method':.3})\n",
    "sns.distplot(z2, hist=False, kde_kws={'bw_method':.3})\n",
    "sns.distplot(z3, hist=False, kde_kws={'bw_method':.3})\n",
    "# sns.distplot(z4, hist=False, kde_kws={'bw_method':.3})"
   ],
   "metadata": {
    "collapsed": false,
    "pycharm": {
     "name": "#%%\n"
    }
   }
  },
  {
   "cell_type": "code",
   "execution_count": 19,
   "outputs": [
    {
     "name": "stdout",
     "output_type": "stream",
     "text": [
      "(2, 10000)\n",
      "(2, 20000)\n",
      "(2, 20000)\n",
      "(2, 20000)\n",
      "(2, 10000)\n"
     ]
    }
   ],
   "source": [
    "print(z.shape)\n",
    "print(z1.shape)\n",
    "print(z2.shape)\n",
    "print(z3.shape)\n",
    "print(z4.shape)"
   ],
   "metadata": {
    "collapsed": false,
    "pycharm": {
     "name": "#%%\n"
    }
   }
  },
  {
   "cell_type": "code",
   "execution_count": 20,
   "outputs": [],
   "source": [
    "def plot_pdf(z, shift=0, m =1):\n",
    "    kde = sns._statistics.KDE(bw_method=.3)\n",
    "    pd, t = kde(x1=z.flatten())\n",
    "    plt.plot(t, m*pd+shift, c='b')"
   ],
   "metadata": {
    "collapsed": false,
    "pycharm": {
     "name": "#%%\n"
    }
   }
  },
  {
   "cell_type": "code",
   "execution_count": 21,
   "outputs": [],
   "source": [
    "plot_pdf(z1[0,:], shift=1)\n",
    "plot_pdf(z2[0,:], shift=.5)\n",
    "plot_pdf(z3[0,:], shift=0, m=.5)\n",
    "# plot_pdf(z4[0,:], shift=-.5, m=.5)\n",
    "\n"
   ],
   "metadata": {
    "collapsed": false,
    "pycharm": {
     "name": "#%%\n"
    }
   }
  },
  {
   "cell_type": "code",
   "execution_count": 22,
   "outputs": [
    {
     "name": "stdout",
     "output_type": "stream",
     "text": [
      "width 0.345 depth 0.9289673187605988 width_cond False\n",
      "0.005 0.2 0.2\n",
      "bounds [[-3.6282772325623123, 2.016353892728117], [2.016353892728117, 7.833779848384579]]\n",
      "tightened_bounds [[-1.0833454790300268, 1.0721614256889525], [2.916654520969973, 5.072161425688953]]\n",
      "width 0.25 depth 0.5067813201950305 width_cond False\n",
      "0.005 0.2 0.2\n",
      "bounds [[-2.7326564299123746, 0.9576405607296379], [0.9576405607296379, 4.838159045734641]]\n",
      "tightened_bounds [[-1.083367088962759, 0.9085327259365342], [1.0021889033509082, 2.972081394873811]]\n",
      "width 0.255 depth 0.5581155233405127 width_cond False\n",
      "0.005 0.2 0.2\n",
      "bounds [[-0.7732317918801637, 3.0053647978661266], [3.0053647978661266, 6.978734407702431]]\n",
      "tightened_bounds [[0.9166684009557688, 2.9446271485188396], [3.065290037637694, 5.072165969663963]]\n",
      "{0: [(Sample_num: 0, Ch: 0, Gate_num: 0 \n",
      "Gate: [-3.628, 2.016], Segment_min_max: -1.779, 1.985 \n",
      "Location_group: 0, Morphology_group: 0, Overall_Indx: 0, Aligned_flag: 0)\n",
      ", (Sample_num: 0, Ch: 0, Gate_num: 1 \n",
      "Gate: [2.016, 7.833], Segment_min_max: 2.22, 5.985 \n",
      "Location_group: 0, Morphology_group: 0, Overall_Indx: 1, Aligned_flag: 0)\n",
      ", (Sample_num: 1, Ch: 0, Gate_num: 0 \n",
      "Gate: [-2.732, 0.957], Segment_min_max: -1.779, 0.957 \n",
      "Location_group: 0, Morphology_group: 0, Overall_Indx: 2, Aligned_flag: 0)\n",
      ", (Sample_num: 1, Ch: 0, Gate_num: 1 \n",
      "Gate: [0.957, 4.838], Segment_min_max: 0.957, 3.885 \n",
      "Location_group: 0, Morphology_group: 0, Overall_Indx: 3, Aligned_flag: 0)\n",
      ", (Sample_num: 2, Ch: 0, Gate_num: 0 \n",
      "Gate: [-0.773, 3.005], Segment_min_max: 0.22, 3.004 \n",
      "Location_group: 0, Morphology_group: 0, Overall_Indx: 4, Aligned_flag: 0)\n",
      ", (Sample_num: 2, Ch: 0, Gate_num: 1 \n",
      "Gate: [3.005, 6.978], Segment_min_max: 3.006, 5.985 \n",
      "Location_group: 0, Morphology_group: 0, Overall_Indx: 5, Aligned_flag: 0)\n",
      "]}\n"
     ]
    }
   ],
   "source": [
    "samples = []\n",
    "for i, zz in enumerate([z1,z2,z3]):\n",
    "    s = Sample(zz.T,[-1],i,gate_factor_q=.01)\n",
    "    samples+=[s]\n",
    "data_handler = DataHandler(samples)"
   ],
   "metadata": {
    "collapsed": false,
    "pycharm": {
     "name": "#%%\n"
    }
   }
  },
  {
   "cell_type": "code",
   "execution_count": 23,
   "outputs": [],
   "source": [
    "samples.reverse()"
   ],
   "metadata": {
    "collapsed": false,
    "pycharm": {
     "name": "#%%\n"
    }
   }
  },
  {
   "cell_type": "code",
   "execution_count": 24,
   "outputs": [],
   "source": [
    "plot_channel_segments(0, samples, show_labels=False,limit_x0=-2, limit_x1=6)"
   ],
   "metadata": {
    "collapsed": false,
    "pycharm": {
     "name": "#%%\n"
    }
   }
  },
  {
   "cell_type": "code",
   "execution_count": 25,
   "outputs": [],
   "source": [
    "Sim_Matrix_dict = {}\n",
    "agg_models_dict = {}\n",
    "location_groups_dict = {}\n",
    "Loc_Ref_Dict_All_Ch = {}\n",
    "incidence_matrcies = {}\n",
    "loosened_groups_for_deadlock_dict = {}\n",
    "jaccard_thresholds = [0.6]*2"
   ],
   "metadata": {
    "collapsed": false,
    "pycharm": {
     "name": "#%%\n"
    }
   }
  },
  {
   "cell_type": "code",
   "execution_count": 26,
   "outputs": [
    {
     "name": "stdout",
     "output_type": "stream",
     "text": [
      "ch 0\n",
      "here\n",
      "Unique groups [1 2 3] \n",
      "\n",
      "\n",
      "optimal gates:\n",
      "(1, 0, 0.0) [-3.6282772325623123, 2.016353892728117]\n",
      "(2, 0, 0.0) [2.016353892728117, 7.833779848384579]\n",
      "(3, 1, 0.0) [0.9576405607296379, 4.838159045734641]\n",
      "\n",
      "iter 0 [[1, 2], [1, 3], [2, 3]]\n",
      "[[2. 1. 1.]\n",
      " [1. 2. 1.]\n",
      " [1. 1. 2.]]\n",
      "\n",
      "iter 1 [[2, 3]]\n",
      "[[0. 0. 0.]\n",
      " [0. 2. 1.]\n",
      " [0. 1. 2.]]\n",
      "loosened_groups_for_deadlock_dict[0] [1]\n"
     ]
    }
   ],
   "source": [
    "recompute_and_update_location_hierarchy_and_refs(\n",
    "                                channels=[0],\n",
    "                                jaccard_thresholds=jaccard_thresholds,\n",
    "                                data_handler=data_handler,\n",
    "                                Sim_Matrix_dict=Sim_Matrix_dict,\n",
    "                                agg_models_dict=agg_models_dict,\n",
    "                                location_groups_dict=location_groups_dict,\n",
    "                                Loc_Ref_Dict_All_Ch=Loc_Ref_Dict_All_Ch,\n",
    "                                incidence_matrices= incidence_matrcies,\n",
    "    loosened_groups_for_deadlock_dict = loosened_groups_for_deadlock_dict\n",
    "                                   )\n",
    "\n",
    "data_handler = DataHandler(samples, verbose=False)"
   ],
   "metadata": {
    "collapsed": false,
    "pycharm": {
     "name": "#%%\n"
    }
   }
  },
  {
   "cell_type": "code",
   "execution_count": 27,
   "outputs": [
    {
     "data": {
      "text/plain": "<AxesSubplot:>"
     },
     "execution_count": 27,
     "metadata": {},
     "output_type": "execute_result"
    }
   ],
   "source": [
    "plt.figure()\n",
    "sns.heatmap(1-Sim_Matrix_dict[0], cmap='Blues', annot=False)"
   ],
   "metadata": {
    "collapsed": false,
    "pycharm": {
     "name": "#%%\n"
    }
   }
  },
  {
   "cell_type": "code",
   "execution_count": 28,
   "outputs": [],
   "source": [
    "dendrogram = plot_gates_dendrogram(agg_models_dict[0], ch='', jacc_threshold=.6,show_title=False, gatefontsize=30 ,yfontsize=30)\n"
   ],
   "metadata": {
    "collapsed": false,
    "pycharm": {
     "name": "#%%\n"
    }
   }
  },
  {
   "cell_type": "code",
   "execution_count": 29,
   "outputs": [],
   "source": [
    "incidence_matrcies = {}\n",
    "Loc_Morph_Ref_Dict_All_Ch = {}\n",
    "Morph_groups_All_ch = {}\n",
    "Morph_models_dict = {}"
   ],
   "metadata": {
    "collapsed": false,
    "pycharm": {
     "name": "#%%\n"
    }
   }
  },
  {
   "cell_type": "code",
   "execution_count": 30,
   "outputs": [
    {
     "name": "stdout",
     "output_type": "stream",
     "text": [
      "\n",
      " ********\n",
      "********\n",
      "********\n",
      "********\n",
      " ch 0\n",
      "\n",
      "loc_gr 1  #gates 2 \n",
      "\n",
      "#members in group 2\n",
      "loc_gr:1, morph_gr 1\n",
      "morph_groups [1 1]\n",
      "indx of gates in morph_group 1: [0 1]\n",
      "\n",
      "loc_gr 2  #gates 2 \n",
      "\n",
      "#members in group 2\n",
      "loc_gr:2, morph_gr 1\n",
      "morph_groups [1 1]\n",
      "indx of gates in morph_group 1: [0 1]\n",
      "\n",
      "loc_gr 3  #gates 2 \n",
      "\n",
      "#members in group 2\n",
      "loc_gr:3, morph_gr 1\n",
      "morph_groups [1 1]\n",
      "indx of gates in morph_group 1: [0 1]\n"
     ]
    }
   ],
   "source": [
    "update_morphology_hierarchy_and_refs(channels=[0], wass_dist_threshold=[1e-7],data_handler=data_handler,\n",
    "                                     location_groups_dict=location_groups_dict,\n",
    "                                     Loc_Morph_Ref_Dict_All_Ch=Loc_Morph_Ref_Dict_All_Ch,\n",
    "                                     Morph_groups_All_ch = Morph_groups_All_ch,\n",
    "                                     Morph_models_dict=Morph_models_dict\n",
    "                                     )"
   ],
   "metadata": {
    "collapsed": false,
    "pycharm": {
     "name": "#%%\n"
    }
   }
  },
  {
   "cell_type": "code",
   "execution_count": 31,
   "outputs": [],
   "source": [
    "%matplotlib qt"
   ],
   "metadata": {
    "collapsed": false,
    "pycharm": {
     "name": "#%%\n"
    }
   }
  },
  {
   "cell_type": "code",
   "execution_count": 32,
   "outputs": [],
   "source": [
    "for m in Morph_models_dict[0]:\n",
    "    plot_gates_dendrogram(m, ch='', jacc_threshold=.6,show_title=False, gatefontsize=30 ,yfontsize=30)"
   ],
   "metadata": {
    "collapsed": false,
    "pycharm": {
     "name": "#%%\n"
    }
   }
  },
  {
   "cell_type": "code",
   "execution_count": 33,
   "outputs": [
    {
     "data": {
      "text/plain": "(-1.391143741894095, 5.3799426225952995, -0.1, 2.1)"
     },
     "execution_count": 33,
     "metadata": {},
     "output_type": "execute_result"
    }
   ],
   "source": [
    "plt.figure()\n",
    "plot_gate_as_tiles(data_handler,0,Loc_Ref_Dict_All_Ch=None, rev=1, shift_color =5,color_tiles=False, show_ref=False, tight=True, show_num=True)\n",
    "plt.axis(False)\n",
    "plt.figure()\n",
    "plot_gate_as_tiles(data_handler,0,Loc_Ref_Dict_All_Ch=None, rev=1, shift_color =5,color_tiles=False, show_ref=True,\n",
    "                   tight=True, show_num=True)\n",
    "plt.axis(False)\n",
    "plt.figure()\n",
    "plot_gate_as_tiles(data_handler,0,Loc_Ref_Dict_All_Ch, rev=1, shift_color =3,color_tiles=True, show_ref=False, tight=True, show_num=True)\n",
    "plt.axis(False)\n",
    "plt.figure()\n",
    "plot_gate_as_tiles(data_handler,0,Loc_Ref_Dict_All_Ch, rev=1, shift_color =3,color_tiles=True, show_ref=True, tight=True, show_num=True)\n",
    "plt.axis(False)"
   ],
   "metadata": {
    "collapsed": false,
    "pycharm": {
     "name": "#%%\n"
    }
   }
  },
  {
   "cell_type": "code",
   "execution_count": 78,
   "outputs": [
    {
     "ename": "KeyError",
     "evalue": "0",
     "output_type": "error",
     "traceback": [
      "\u001B[1;31m---------------------------------------------------------------------------\u001B[0m",
      "\u001B[1;31mKeyError\u001B[0m                                  Traceback (most recent call last)",
      "\u001B[1;32m<ipython-input-78-3faf5124c52b>\u001B[0m in \u001B[0;36m<module>\u001B[1;34m\u001B[0m\n\u001B[1;32m----> 1\u001B[1;33m \u001B[0mplot_network_graph\u001B[0m\u001B[1;33m(\u001B[0m\u001B[1;36m0\u001B[0m\u001B[1;33m,\u001B[0m \u001B[0mincidence_matrcies\u001B[0m\u001B[1;33m[\u001B[0m\u001B[1;36m0\u001B[0m\u001B[1;33m]\u001B[0m\u001B[1;33m)\u001B[0m\u001B[1;33m\u001B[0m\u001B[1;33m\u001B[0m\u001B[0m\n\u001B[0m\u001B[0;32m      2\u001B[0m \u001B[1;33m\u001B[0m\u001B[0m\n",
      "\u001B[1;31mKeyError\u001B[0m: 0"
     ]
    }
   ],
   "source": [
    "plot_network_graph(0, incidence_matrcies[0])"
   ],
   "metadata": {
    "collapsed": false,
    "pycharm": {
     "name": "#%%\n"
    }
   }
  },
  {
   "cell_type": "code",
   "execution_count": 24,
   "outputs": [],
   "source": [
    "samples.reverse()"
   ],
   "metadata": {
    "collapsed": false,
    "pycharm": {
     "name": "#%%\n"
    }
   }
  },
  {
   "cell_type": "code",
   "execution_count": 158,
   "outputs": [],
   "source": [
    "comp_func_dict={}\n",
    "funcs_dict = {}\n",
    "earth_models_dict={}\n",
    "aligned_samples={}\n",
    "Ref_Inv_CDF_Dict_All_Ch={}\n",
    "gates_locations_dict={}\n",
    "original_samples={}\n"
   ],
   "metadata": {
    "collapsed": false,
    "pycharm": {
     "name": "#%%\n"
    }
   }
  },
  {
   "cell_type": "code",
   "execution_count": 187,
   "outputs": [
    {
     "name": "stdout",
     "output_type": "stream",
     "text": [
      "alpha 0.006251108168757291 beta 0.9553688192535859 gamma 0.07773420943223641\n"
     ]
    },
    {
     "name": "stderr",
     "output_type": "stream",
     "text": [
      "C:\\Users\\Muhammad_Saeed\\anaconda3\\lib\\site-packages\\pyearth\\earth.py:813: FutureWarning: `rcond` parameter will change to the default of machine precision times ``max(M, N)`` where M and N are the input matrix dimensions.\n",
      "To use the future default and silence this warning we advise to pass `rcond=None`, to keep using the old, explicitly pass `rcond=-1`.\n",
      "  pruning_passer.run()\n",
      "C:\\Users\\Muhammad_Saeed\\anaconda3\\lib\\site-packages\\pyearth\\earth.py:1066: FutureWarning: `rcond` parameter will change to the default of machine precision times ``max(M, N)`` where M and N are the input matrix dimensions.\n",
      "To use the future default and silence this warning we advise to pass `rcond=None`, to keep using the old, explicitly pass `rcond=-1`.\n",
      "  coef, resid = np.linalg.lstsq(B, weighted_y[:, i])[0:2]\n"
     ]
    },
    {
     "data": {
      "text/plain": "({(0, 0): <function alignment.combine_funcs.<locals>.<lambda>(x)>},\n {(0, 0): [<function alignment.minmaxmean_align.<locals>.<lambda>(x)>]},\n {(0, 0): Earth(max_degree=1, penalty=1, smooth=True)})"
     },
     "execution_count": 187,
     "metadata": {},
     "output_type": "execute_result"
    }
   ],
   "source": [
    "# comp_func_dict, funcs_dict, earth_models_dict = \\\n",
    "align_samples_func(0,q_alignment=.02,samples=samples, aligned_samples=aligned_samples, original_samples=original_samples,\n",
    "                   Loc_Ref_Dict_All_Ch=Loc_Ref_Dict_All_Ch, Loc_Morph_Ref_Dict_All_Ch=Loc_Morph_Ref_Dict_All_Ch,\n",
    "                   Ref_Inv_CDF_Dict_All_Ch=Ref_Inv_CDF_Dict_All_Ch,funcs_dict=funcs_dict,\n",
    "                                                                comp_func_dict=comp_func_dict,\n",
    "                   earth_models_dict=earth_models_dict, gates_locations_dict=gates_locations_dict, n_sample=len(samples),\n",
    "                   sigma = .8, earth_smoothing_penalty=1\n",
    "                   )"
   ],
   "metadata": {
    "collapsed": false,
    "pycharm": {
     "name": "#%%\n"
    }
   }
  },
  {
   "cell_type": "code",
   "execution_count": 189,
   "outputs": [
    {
     "data": {
      "text/plain": "{(0,\n  0): array([3.87288921, 4.04053772, 4.33515544, ..., 3.33409753, 3.37758057,\n        3.58774573])}"
     },
     "execution_count": 189,
     "metadata": {},
     "output_type": "execute_result"
    }
   ],
   "source": [
    "aligned_samples"
   ],
   "metadata": {
    "collapsed": false,
    "pycharm": {
     "name": "#%%\n"
    }
   }
  },
  {
   "cell_type": "code",
   "execution_count": 42,
   "outputs": [
    {
     "name": "stdout",
     "output_type": "stream",
     "text": [
      "3\n",
      "2\n",
      "1\n",
      "3\n",
      "1\n",
      "2\n"
     ]
    }
   ],
   "source": [
    "plotted_lr = []\n",
    "samples_pds = {}\n",
    "counter = 0\n",
    "color_by_location = True\n",
    "for sh, samp in enumerate(samples):\n",
    "    shift = sh*.47\n",
    "    gates =[g for g in  samp.gates[0]]\n",
    "    kde = sns._statistics.KDE(bw_method=.3)\n",
    "    pd, t = kde(x1=samp(0).flatten())\n",
    "    samples_pds[sh]= [t, pd]\n",
    "    for k, gate in enumerate(gates):\n",
    "        seg = gate.gate\n",
    "        ind = np.logical_and(t>= seg[0], t<= seg[1])\n",
    "        tt = t[ind]\n",
    "        ppd = pd[ind]\n",
    "        m = 1 if len(gates)>1 else .5\n",
    "        print(gate.location_group)\n",
    "        lg = gate.location_group\n",
    "        gate_num = counter\n",
    "        counter+=1\n",
    "        amx = np.argmax(ppd)\n",
    "        plt.text(tt[amx],m*ppd.min()+shift+.1, f'{gate_num}' ,color='w', fontsize=12)\n",
    "        col = colors[lg+3] if color_by_location else colors[k+5]\n",
    "        if lg not in plotted_lr:\n",
    "            plt.fill_between(tt, m*ppd+shift, shift, color = col, label=f'Location Group: {len(plotted_lr)}')\n",
    "            plotted_lr+=[lg]\n",
    "        else:\n",
    "            plt.fill_between(tt, m*ppd+shift,shift, color = col)\n",
    "\n",
    "plt.axis(False)\n",
    "if color_by_location:\n",
    "    plt.legend(loc='upper left')"
   ],
   "metadata": {
    "collapsed": false,
    "pycharm": {
     "name": "#%%\n"
    }
   }
  },
  {
   "cell_type": "code",
   "execution_count": 35,
   "outputs": [],
   "source": [
    "from skimage.segmentation import watershed"
   ],
   "metadata": {
    "collapsed": false,
    "pycharm": {
     "name": "#%%\n"
    }
   }
  },
  {
   "cell_type": "code",
   "execution_count": 27,
   "outputs": [
    {
     "name": "stdout",
     "output_type": "stream",
     "text": [
      "['blue', 'orange', 'g', 'r', 'coral', 'cyan', 'm', 'steelblue', 'brown', 'y', 'gray', 'k']\n"
     ]
    }
   ],
   "source": [
    "print(colors)"
   ],
   "metadata": {
    "collapsed": false,
    "pycharm": {
     "name": "#%%\n"
    }
   }
  },
  {
   "cell_type": "code",
   "execution_count": 36,
   "outputs": [
    {
     "name": "stdout",
     "output_type": "stream",
     "text": [
      "[[-3.13347925756433, 0.8797637101630338], [0.8797637101630338, 3.2032201651630867], [3.2032201651630867, 6.7940165047086225], [6.7940165047086225, 10.877667243799623]]\n"
     ]
    }
   ],
   "source": [
    "fill_colors = ['slateblue', 'lightskyblue','cyan', 'cornflowerblue']\n",
    "z = np.random.normal(0,.31, [2,8000])\n",
    "z = np.concatenate([z,z+1.7, z+4.6, z[:,:500]+8], axis=1)\n",
    "kde = sns._statistics.KDE(bw_method=.3)\n",
    "pd, t = kde(x1=z.flatten())\n",
    "\n",
    "plt.figure()\n",
    "plt.plot(t, pd)\n",
    "plt.scatter(z[0,:], np.random.uniform(-.002,.008,z.shape[1]), s=.001,c='b')\n",
    "plt.scatter(np.random.uniform(-2,9,1000), np.random.uniform(-.002,.008, 1000),c='b', s=.001)\n",
    "plt.axis(False)\n",
    "plt.figure()\n",
    "plt.plot(t, -pd)\n",
    "plt.axis(False)\n",
    "\n",
    "pd_s = watershed(-pd)\n",
    "wl = get_watershed_lines_from_labeled_segs(pd_s, t)\n",
    "# wl[1] = wl[1]-.02\n",
    "segs = convert_watershed_lines_to_gate(wl)\n",
    "print(segs)\n",
    "inds = [np.argmin(np.abs(t-l)) for l in wl]\n",
    "wl_ys = -pd[inds][1:-1]\n",
    "for j, v in enumerate(wl_ys):\n",
    "    plt.figure()\n",
    "    plt.axis(False)\n",
    "    plt.plot(t, -pd)\n",
    "    plt.axhline(v, )\n",
    "    for k, seg in enumerate(segs):\n",
    "        ind = np.logical_and(t>= seg[0], t<= seg[1])\n",
    "        tt = t[ind]\n",
    "        ppd = pd[ind]\n",
    "        fill_curve = deepcopy(-ppd)\n",
    "        fill_curve[fill_curve<v] = v\n",
    "        plt.fill_between(tt, -ppd,fill_curve, color = fill_colors[k])\n",
    "    # if j<len(wl_ys):\n",
    "    for jj in range(j+1):\n",
    "        plt.plot([segs[jj][1]]*10,np.linspace(wl_ys[jj],0.01,10), color='k', linestyle ='--')"
   ],
   "metadata": {
    "collapsed": false,
    "pycharm": {
     "name": "#%%\n"
    }
   }
  },
  {
   "cell_type": "code",
   "execution_count": 37,
   "outputs": [],
   "source": [
    "markers = ['s','^','o','x']\n",
    "def plot_segments_pd(t, pd, segs, shift_color=0):\n",
    "    plt.figure()\n",
    "    for i, seg in enumerate(segs):\n",
    "        ind = np.logical_and(t>= seg[0], t<= seg[1])\n",
    "        tt = t[ind]\n",
    "        ppd = pd[ind]\n",
    "        plt.fill_between(tt, ppd, color= fill_colors[i+shift_color], linestyle='-', label =f'Segment {i}')\n",
    "    plt.legend(loc='upper right')\n",
    "    plt.axis(False)\n",
    "    return plt.gca()"
   ],
   "metadata": {
    "collapsed": false,
    "pycharm": {
     "name": "#%%\n"
    }
   }
  },
  {
   "cell_type": "code",
   "execution_count": 38,
   "outputs": [
    {
     "data": {
      "text/plain": "<AxesSubplot:>"
     },
     "execution_count": 38,
     "metadata": {},
     "output_type": "execute_result"
    }
   ],
   "source": [
    "plot_segments_pd(t, pd, segs)"
   ],
   "metadata": {
    "collapsed": false,
    "pycharm": {
     "name": "#%%\n"
    }
   }
  },
  {
   "cell_type": "code",
   "execution_count": 39,
   "outputs": [
    {
     "data": {
      "text/plain": "<AxesSubplot:>"
     },
     "execution_count": 39,
     "metadata": {},
     "output_type": "execute_result"
    }
   ],
   "source": [
    "pd_sa = non_maximum_suppression(pd, pd_s,.1)\n",
    "pd_sa = merge(pd_sa)\n",
    "wl_a = get_watershed_lines_from_labeled_segs(pd_sa, t)\n",
    "segs_a = convert_watershed_lines_to_gate(wl_a)\n",
    "plot_segments_pd(t,pd, segs_a)"
   ],
   "metadata": {
    "collapsed": false,
    "pycharm": {
     "name": "#%%\n"
    }
   }
  },
  {
   "cell_type": "code",
   "execution_count": 32,
   "outputs": [
    {
     "name": "stdout",
     "output_type": "stream",
     "text": [
      "width 0.105 depth 0.10515499836463912 width_cond True\n",
      "width 0.215 depth 0.7838278946862721 width_cond False\n"
     ]
    },
    {
     "data": {
      "text/plain": "<AxesSubplot:>"
     },
     "execution_count": 32,
     "metadata": {},
     "output_type": "execute_result"
    },
    {
     "data": {
      "text/plain": "<Figure size 432x288 with 1 Axes>",
      "image/png": "[encoded data removed]"
     },
     "metadata": {
      "needs_background": "light"
     },
     "output_type": "display_data"
    }
   ],
   "source": [
    "pd_swd = suppress_and_merge_tiny_basins(pd,pd_sa, .2,.2)\n",
    "wl_wd = get_watershed_lines_from_labeled_segs(pd_swd, t)\n",
    "segs_wd = convert_watershed_lines_to_gate(wl_wd)\n",
    "plot_segments_pd(t,pd, segs_wd,shift_color=1)\n"
   ],
   "metadata": {
    "collapsed": false,
    "pycharm": {
     "name": "#%%\n"
    }
   }
  },
  {
   "cell_type": "code",
   "execution_count": null,
   "outputs": [],
   "source": [],
   "metadata": {
    "collapsed": false,
    "pycharm": {
     "name": "#%%\n"
    }
   }
  }
 ],
 "metadata": {
  "kernelspec": {
   "display_name": "Python 3",
   "language": "python",
   "name": "python3"
  },
  "language_info": {
   "codemirror_mode": {
    "name": "ipython",
    "version": 2
   },
   "file_extension": ".py",
   "mimetype": "text/x-python",
   "name": "python",
   "nbconvert_exporter": "python",
   "pygments_lexer": "ipython2",
   "version": "2.7.6"
  }
 },
 "nbformat": 4,
 "nbformat_minor": 0
}
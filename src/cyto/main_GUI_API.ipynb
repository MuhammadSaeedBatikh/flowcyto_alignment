{
 "cells": [
  {
   "cell_type": "code",
   "execution_count": null,
   "metadata": {},
   "outputs": [],
   "source": [
    "from importlib import reload\n",
    "import numpy as np\n",
    "import matplotlib.pyplot as plt\n",
    "from sklearn.preprocessing import MinMaxScaler\n",
    "import seaborn as sns\n",
    "\n",
    "import skimage.segmentation as sk_seg\n",
    "import copy\n",
    "from sklearn.cluster import AgglomerativeClustering\n",
    "from scipy.cluster.hierarchy import dendrogram\n",
    "from skimage.filters import threshold_multiotsu\n",
    "import jenkspy\n",
    "import sklearn.cluster as skclus\n",
    "import pandas as pd\n",
    "\n",
    "\n",
    "from ..cyto.helpers import *\n",
    "from ..cyto.alignment import *\n",
    "from ..cyto.pipeline import *\n",
    "from ..cyto.visualization import *\n",
    "from ..cyto.grouping import *\n",
    "from ..cyto.segmentation import *\n",
    "import statsmodels.api as sm\n",
    "import scipy\n",
    "from scipy.ndimage import gaussian_filter1d\n",
    "import time\n",
    "import functools\n",
    "\n"
   ]
  },
  {
   "cell_type": "code",
   "execution_count": null,
   "metadata": {
    "pycharm": {
     "name": "#%%\n"
    }
   },
   "outputs": [],
   "source": [
    "import pandas as pd\n",
    "\n",
    "# df = pd.read_csv('100222-ENU-Mouse-Normalisation-Data.csv',sep=',')\n",
    "df = pd.read_csv('../../data/080322-ENU-Mouse-Normalisation-Data-Gated.csv',sep=',')\n",
    "# df = pd.read_csv('100222-ENU-Mouse-Normalisation-Data-Raw.csv',sep=',')\n",
    "columns_names = df.columns.tolist()\n",
    "samples_codes = df['sample_code']\n",
    "samples_codes = np.unique(samples_codes)\n",
    "samples_codes = np.unique([e.split('-')[0]for e in samples_codes])\n",
    "\n",
    "X = []\n",
    "Y = []\n",
    "\n",
    "for i, s in enumerate(samples_codes):\n",
    "    sample_train = df[df['sample_code'].str.contains(s)].to_numpy()[:,1:].astype(np.float)\n",
    "    X += [sample_train]\n",
    "    y = i*np.ones(shape= sample_train.shape[0])\n",
    "    Y+=[y]\n",
    "\n",
    "X = np.concatenate(X)\n",
    "Y = np.concatenate(Y)\n",
    "print(X.shape)\n",
    "print(Y.shape)\n",
    "max_before_norm, min_before_min = X.max(0), X.min(0)\n",
    "X = MinMaxScaler().fit_transform(X)\n",
    "num_samples = len(np.unique(Y))\n",
    "num_channels = 15\n",
    "segments = np.ones(shape=[num_channels, num_samples])*-1\n"
   ]
  },
  {
   "cell_type": "code",
   "execution_count": null,
   "metadata": {
    "pycharm": {
     "name": "#%%\n"
    }
   },
   "outputs": [],
   "source": [
    "plt.figure()\n",
    "plt.scatter(X[:,10],X[:,14], s=.05)"
   ]
  },
  {
   "cell_type": "code",
   "execution_count": null,
   "metadata": {
    "pycharm": {
     "name": "#%%\n"
    }
   },
   "outputs": [],
   "source": [
    "gate_factor = 0.02\n",
    "gate_factor = np.ones(15)*gate_factor if isinstance(gate_factor, float) else gate_factor\n",
    "gate_factor[:8] = 0.01\n",
    "\n",
    "\n",
    "kde_window= .28\n",
    "kde_window = np.ones(15)*kde_window if isinstance(kde_window, float) else kde_window\n",
    "kde_window[10] =.2\n",
    "kde_window[6] =.1\n",
    "area_thresholds = .04\n",
    "area_thresholds = np.ones(15)*area_thresholds if isinstance(area_thresholds, float) else area_thresholds\n",
    "\n",
    "distance_thresholds=.16\n",
    "distance_thresholds = np.ones(15)*distance_thresholds if isinstance(distance_thresholds, float) else distance_thresholds\n",
    "\n",
    "depth_thresholds =.23\n",
    "depth_thresholds = np.ones(15)*depth_thresholds if isinstance(depth_thresholds, float) else depth_thresholds"
   ]
  },
  {
   "cell_type": "code",
   "execution_count": null,
   "metadata": {
    "pycharm": {
     "name": "#%%\n"
    }
   },
   "outputs": [],
   "source": [
    "num_ch = 15\n",
    "samples = []\n",
    "time_start= time.time()\n",
    "\n",
    "for y in range(num_samples):\n",
    "    s_d = X[Y == y, :]\n",
    "    print('****\\n'*4,'Sample:',y,'****\\n'*4)\n",
    "    sample = Sample(s_d, gates_per_channel=[-1]*num_ch, sample_num=y,\n",
    "                    gate_factor_q=gate_factor,area_threshold=area_thresholds,\n",
    "                    kde_window=kde_window,width_threshold=distance_thresholds,\n",
    "                    depth_threshold=depth_thresholds)\n",
    "    samples+=[sample]\n",
    "\n",
    "data_handler = DataHandler(samples)\n",
    "time_end = time.time()\n"
   ]
  },
  {
   "cell_type": "code",
   "execution_count": null,
   "metadata": {
    "pycharm": {
     "name": "#%%\n"
    }
   },
   "outputs": [],
   "source": [
    "print(time_end-time_start)\n",
    "%matplotlib inline\n",
    "plt.rcParams['figure.figsize'] = [14, 14]"
   ]
  },
  {
   "cell_type": "code",
   "execution_count": null,
   "metadata": {},
   "outputs": [],
   "source": [
    "previous_KDE_window = copy.deepcopy(kde_window)\n",
    "\n",
    "def interact_pick_channel(samples, channel):\n",
    "    channel = columns_names.index(channel)-1\n",
    "    area_threshold_widget  = widgets.FloatSlider(min=0.0, max=0.05, step=0.001, value=area_thresholds[channel], )\n",
    "    width_threshold_widget = widgets.FloatSlider(min=0.0, max=0.6, step=.025, value=distance_thresholds[channel])\n",
    "    depth_threshold_widget = widgets.FloatSlider(min=0.0, max=0.7, step=.025, value=depth_thresholds[channel])\n",
    "\n",
    "    interact(interactive_update_segments,\n",
    "         area_threshold = area_threshold_widget,\n",
    "         width_threshold = width_threshold_widget,\n",
    "         depth_threshold = depth_threshold_widget,\n",
    "         channel = fixed(channel),\n",
    "         samples=fixed(samples))\n",
    "\n",
    "def interactive_update_segments(samples, channel, area_threshold, width_threshold,\n",
    "                                depth_threshold):\n",
    "     \n",
    "        area_thresholds[channel] = area_threshold\n",
    "        distance_thresholds[channel] = width_threshold\n",
    "        depth_thresholds[channel] = depth_threshold\n",
    "\n",
    "\n",
    "        for i, s in enumerate(samples):\n",
    "            s.resegment_ch(channel, kde_window=None, area_threshold=area_threshold,\n",
    "                              width_threshold=width_threshold,\n",
    "                              depth_threshold=depth_threshold, init=False, verbose=False)\n",
    "\n",
    "        plot_channel_segments(ch=channel,\n",
    "                              samples=samples,\n",
    "                               max_per_plt=20,show_labels=False,\n",
    "                              limit_x0=-.2,limit_x1=1.2)"
   ]
  },
  {
   "cell_type": "code",
   "execution_count": null,
   "metadata": {},
   "outputs": [],
   "source": [
    "from ipywidgets import interact, interactive, fixed, interact_manual\n",
    "\n",
    "import ipywidgets as widgets\n",
    "from IPython.core.display import display, HTML\n",
    "display(HTML(\"<style>div.output_scroll { height: 38em; }</style>\"))"
   ]
  },
  {
   "cell_type": "code",
   "execution_count": null,
   "metadata": {
    "scrolled": false
   },
   "outputs": [],
   "source": [
    "#     max_per_plt_widget = widgets.IntSlider(min=2, max=len(samples), step=1, value=15)\n",
    "ch_widget = widgets.ToggleButtons(\n",
    "    options=columns_names[1:-2],\n",
    "    description='Channel',\n",
    "    disabled=False,\n",
    "    style={\"button_width\": \"100px\"}\n",
    ")\n",
    "ch = ch_widget.index\n",
    "# def update_x_range(*args):\n",
    "#     x_widget.max = 2.0 * y_widget.value\n",
    "# y_widget.observe(update_x_range, 'value')\n",
    "\n",
    "# kde_window_widget = widgets.FloatSlider(min=0.0, max=0.6, step=.025, value=kde_window[ch])\n",
    "interact(interact_pick_channel,\n",
    "         channel = ch_widget,\n",
    "         samples=fixed(samples))"
   ]
  },
  {
   "cell_type": "code",
   "execution_count": null,
   "metadata": {
    "pycharm": {
     "name": "#%%\n"
    }
   },
   "outputs": [],
   "source": [
    "data_handler = DataHandler(samples, verbose=False)\n",
    "# print(np.array(columns_names)[np.argwhere(samples[0].area_threshold !=.02).flatten()+1])\n",
    "print(samples[0].depth_threshold)\n",
    "print(samples[0].depth_threshold)"
   ]
  },
  {
   "cell_type": "code",
   "execution_count": null,
   "metadata": {},
   "outputs": [],
   "source": [
    "# for i in range(20):\n",
    "#     plt.figure()\n",
    "#     a = plt.hist(X[Y==i,6], bins=32)\n",
    "\n"
   ]
  },
  {
   "cell_type": "code",
   "execution_count": null,
   "metadata": {
    "pycharm": {
     "name": "#%%\n"
    }
   },
   "outputs": [],
   "source": [
    "# aligned_sample = {}\n",
    "# ref_num, targ_num = 2, 4\n",
    "# gates_locations_dict = {}\n",
    "# funcs_dict = {}\n",
    "# xys_dict = {}\n",
    "# for ch in [13,14]:\n",
    "#     funcs  = []\n",
    "#     xys  = []\n",
    "#     ch_aligned = []\n",
    "#     gates_locations = []\n",
    "#\n",
    "#     for i in range(2):\n",
    "#         ref_gate = samples[ref_num].gates[ch][i]\n",
    "#         ref_seg1 = ref_gate.segment\n",
    "#         ref_ecdf = sm.distributions.empirical_distribution.ECDF(ref_seg1)\n",
    "#         target_gate = samples[targ_num].gates[ch][i]\n",
    "#         target_seg1 = target_gate.segment\n",
    "#         target_ecdf = sm.distributions.empirical_distribution.ECDF(target_seg1)\n",
    "#\n",
    "#         ref_inv_cdf = sm.distributions.empirical_distribution.monotone_fn_inverter(ref_ecdf,\n",
    "#                                                                                    ref_seg1)\n",
    "#\n",
    "#\n",
    "#         ref_inv_cdf = scipy.interpolate.BSpline(\n",
    "#             ref_inv_cdf.x,\n",
    "#             ref_inv_cdf.y,\n",
    "#                                                          k=0,\n",
    "#                                                          extrapolate=False\n",
    "#                                                          )\n",
    "#\n",
    "#         func0 = lambda_warp_factory(ref_inv_cdf, target_ecdf)\n",
    "#         funcs += [func0]\n",
    "#\n",
    "#         plt.figure()\n",
    "#         ax1 = plt.subplot2grid((3,2), (0,0),rowspan=1, colspan=1)\n",
    "#         ax1.set_xlim(0,1)\n",
    "#         ax1.set_ylabel('reference')\n",
    "#         ax2 = plt.subplot2grid((3,2), (1,0),rowspan=1, colspan=1)\n",
    "#         ax2.set_ylabel('target')\n",
    "#         ax2.set_xlim(0,1)\n",
    "#         ax3 = plt.subplot2grid((3,2), (2,0),rowspan=1, colspan=1)\n",
    "#         ax3.set_ylabel('aligned')\n",
    "#         ax3.set_xlim(0,1)\n",
    "#         ax4 = plt.subplot2grid((3,2), (0,1),rowspan=3, colspan=1)\n",
    "#\n",
    "#         sns.distplot(ref_seg1, ax = ax1,hist=False, bins=128)\n",
    "#         sns.distplot(target_seg1, ax = ax2, hist=False,bins=128)\n",
    "#         aligned = func0(target_gate.segment)\n",
    "#         ch_aligned+=[aligned]\n",
    "#\n",
    "#         print('nans',np.count_nonzero(np.isnan(aligned)))\n",
    "#         sns.distplot(aligned, ax = ax3, hist=False, bins=128)\n",
    "#\n",
    "#         t = np.linspace(target_gate.tight_gate[0],target_gate.tight_gate[1],1000)\n",
    "#         y = func0(t)\n",
    "#         ind = ~np.isnan(y)\n",
    "#         xys +=[[t[ind],y[ind]]]\n",
    "#         ax4.plot(t, t)\n",
    "#         ax4.plot(t, ref_ecdf(t))\n",
    "#         ax4.plot(t, ref_inv_cdf(t))\n",
    "#\n",
    "#         ax4.plot(t, y)\n",
    "#         gates_locations += [[target_gate.tight_gate[0], target_gate.tight_gate[1]]]\n",
    "#         for l in [ref_gate.tight_gate[0], ref_gate.tight_gate[1]]:\n",
    "#             ax4.axhline(l)\n",
    "#         for l in [target_gate.tight_gate[0], target_gate.tight_gate[1]]:\n",
    "#             ax4.axvline(l)\n",
    "#         ax4.grid(True)\n",
    "#     gates_locations_dict[ch] = gates_locations\n",
    "#     aligned_sample[ch] = np.concatenate(ch_aligned)\n",
    "#     funcs_dict[ch] = funcs\n",
    "#     xys_dict[ch] = xys\n",
    "#"
   ]
  },
  {
   "cell_type": "code",
   "execution_count": null,
   "metadata": {
    "pycharm": {
     "name": "#%%\n"
    }
   },
   "outputs": [],
   "source": [
    "# comp_func0 = combine_funcs(funcs_dict[13], gates_locations_dict[13])\n",
    "# comp_func1 = combine_funcs(funcs_dict[14], gates_locations_dict[14])\n",
    "# comp_funcs = [comp_func0, comp_func1]\n",
    "#"
   ]
  },
  {
   "cell_type": "code",
   "execution_count": null,
   "metadata": {
    "pycharm": {
     "name": "#%%\n"
    }
   },
   "outputs": [],
   "source": [
    "# # locs = [[.2,.5], [.6,.8]]\n",
    "# locs = gates_locations_dict[13]\n",
    "# # funcs = [lambda x:x*x, lambda x:1.2*x]\n",
    "# funcs = funcs_dict[13]\n",
    "# comp_func = combine_funcs(xys_dict[13])\n",
    "# plt.figure()\n",
    "# t = np.linspace(0,1, 1000)\n",
    "# plt.plot(t, t)\n",
    "# t = np.linspace(*locs[0], 1000)\n",
    "# plt.plot(t, funcs[0](t),linewidth=2)\n",
    "# t = np.linspace(*locs[1], 1000)\n",
    "# plt.plot(t, funcs[1](t),linewidth=2)\n",
    "# t = np.linspace(0,1, 1000)\n",
    "# plt.plot(t, comp_func(t))\n",
    "#"
   ]
  },
  {
   "cell_type": "code",
   "execution_count": null,
   "metadata": {
    "pycharm": {
     "name": "#%%\n"
    }
   },
   "outputs": [],
   "source": [
    "# tch1 = samples[targ_num](13).reshape(-1,1)\n",
    "# tch2 = samples[targ_num](14).reshape(-1,1)\n",
    "# ach1 = comp_funcs[0](tch1)\n",
    "# ach2 = comp_funcs[1](tch2)\n",
    "#\n",
    "# axes = plt.subplots(3,1)[1].flatten()\n",
    "# sns.distplot(samples[ref_num](14), hist=True, bins=128, ax = axes[0])\n",
    "# sns.distplot(tch2, hist=True, bins=128, ax = axes[1])\n",
    "# sns.distplot(ach2, hist=True, bins=128, ax = axes[2])\n",
    "# axes[0].set_xlim(0,1)\n",
    "# axes[1].set_xlim(0,1)\n",
    "# axes[2].set_xlim(0,1)\n",
    "#\n",
    "# plot_lines( np.concatenate([tch1,\n",
    "#                           tch2], axis=1),\n",
    "#            np.concatenate([ach1,\n",
    "#                           ach2], axis=1),n_lines=10000,\n",
    "#             s1=5, s2=10\n",
    "#            )\n",
    "#"
   ]
  },
  {
   "cell_type": "code",
   "execution_count": null,
   "metadata": {
    "pycharm": {
     "name": "#%%\n"
    }
   },
   "outputs": [],
   "source": [
    "# plt.figure()\n",
    "# # plt.scatter(tch1,tch2, s= 2, alpha=.4, c='b')\n",
    "# plt.scatter(ach1,ach2, s= 2, alpha=.4, c='g')\n",
    "#"
   ]
  },
  {
   "cell_type": "code",
   "execution_count": null,
   "metadata": {
    "pycharm": {
     "name": "#%%\n"
    }
   },
   "outputs": [],
   "source": [
    "# sns.distplot(samples[ref_num](14), hist=False, bins=128)\n",
    "# sns.distplot(tch2, hist=False, bins=128)\n",
    "# sns.distplot(ach2, hist=False, bins=128)\n",
    "#"
   ]
  },
  {
   "cell_type": "code",
   "execution_count": null,
   "metadata": {
    "pycharm": {
     "name": "#%%\n"
    }
   },
   "outputs": [],
   "source": [
    "# xx, yy = np.meshgrid(np.linspace(0,1,50),np.linspace(0,1,50))\n",
    "# xx = xx.reshape(-1,1)\n",
    "# yy = yy.reshape(-1,1)\n",
    "# TD = np.concatenate([xx,yy], axis=1)\n",
    "# AD = np.concatenate([comp_funcs[0](xx), comp_funcs[1](yy)], axis=1)\n",
    "# plot_lines(TD, AD, 50**2,linewidth=1, s1=5, s2=15)\n",
    "#\n",
    "#"
   ]
  },
  {
   "cell_type": "code",
   "execution_count": null,
   "metadata": {
    "pycharm": {
     "name": "#%%\n"
    }
   },
   "outputs": [],
   "source": [
    "Sim_Matrix_dict = {}\n",
    "agg_models_dict = {}\n",
    "location_groups_dict = {}\n",
    "Loc_Ref_Dict_All_Ch = {}\n",
    "incidence_matrcies = {}\n",
    "loosened_groups_for_deadlock_dict = {}\n",
    "jaccard_thresholds = 0.6\n",
    "jaccard_thresholds = np.ones(15)*jaccard_thresholds if isinstance(jaccard_thresholds, float) else jaccard_thresholds\n"
   ]
  },
  {
   "cell_type": "code",
   "execution_count": null,
   "metadata": {
    "pycharm": {
     "name": "#%%\n"
    }
   },
   "outputs": [],
   "source": [
    "import grouping\n",
    "reload(grouping)\n",
    "from grouping import *\n",
    "\n",
    "import visualization\n",
    "reload(visualization)\n",
    "\n",
    "from visualization import *\n"
   ]
  },
  {
   "cell_type": "code",
   "execution_count": null,
   "metadata": {
    "pycharm": {
     "name": "#%%\n"
    }
   },
   "outputs": [],
   "source": [
    "# recompute_and_update_location_hierarchy_and_refs(\n",
    "#                                 channels=list(range(num_channels)),\n",
    "#                                 # channels=[5],\n",
    "#                                 jaccard_thresholds=jaccard_thresholds,\n",
    "#                                 data_handler=data_handler,\n",
    "#                                 Sim_Matrix_dict=Sim_Matrix_dict,\n",
    "#                                 agg_models_dict=agg_models_dict,\n",
    "#                                 location_groups_dict=location_groups_dict,\n",
    "#                                 Loc_Ref_Dict_All_Ch=Loc_Ref_Dict_All_Ch,\n",
    "#                                 incidence_matrcies = incidence_matrcies,\n",
    "#     loosened_groups_for_deadlock_dict = loosened_groups_for_deadlock_dict\n",
    "#                                    )\n",
    "#\n",
    "# data_handler = DataHandler(samples, verbose=False)"
   ]
  },
  {
   "cell_type": "code",
   "execution_count": null,
   "metadata": {
    "pycharm": {
     "name": "#%%\n"
    }
   },
   "outputs": [],
   "source": [
    "%matplotlib inline"
   ]
  },
  {
   "cell_type": "code",
   "execution_count": null,
   "metadata": {
    "pycharm": {
     "name": "#%%\n"
    },
    "scrolled": false
   },
   "outputs": [],
   "source": [
    "def interact_pick_channel(samples, channel,\n",
    "                          jaccard_thresholds,\n",
    "                         data_handler, Sim_Matrix_dict, agg_models_dict,\n",
    "                         location_groups_dict, Loc_Ref_Dict_All_Ch,\n",
    "                                                   incidence_matrcies,\n",
    "                                                   loosened_groups_for_deadlock_dict,\n",
    "                                                   mode\n",
    "                         ):\n",
    "\n",
    "    channel = columns_names.index(channel)-1\n",
    "\n",
    "    jaccard_threshold_widget = widgets.FloatSlider(min=0.4, max=0.9,\n",
    "                                                   step=.05, value=jaccard_thresholds[channel])\n",
    "    \n",
    "    interact(interactive_recompute_and_update_location_hierarchy_and_refs,\n",
    "         ch= fixed(channel),\n",
    "         jaccard_threshold = jaccard_threshold_widget,\n",
    "         jaccard_thresholds = fixed(jaccard_thresholds),\n",
    "         data_handler=fixed(data_handler),\n",
    "         Sim_Matrix_dict=fixed(Sim_Matrix_dict),\n",
    "         agg_models_dict=fixed(agg_models_dict),\n",
    "         location_groups_dict=fixed(location_groups_dict),\n",
    "         Loc_Ref_Dict_All_Ch=fixed(Loc_Ref_Dict_All_Ch),\n",
    "         incidence_matrcies = fixed(incidence_matrcies),\n",
    "         loosened_groups_for_deadlock_dict= fixed(loosened_groups_for_deadlock_dict),\n",
    "         mode = fixed(mode)\n",
    "         )\n",
    "\n",
    "\n",
    "\n",
    "def interactive_recompute_and_update_location_hierarchy_and_refs(ch,\n",
    "                                                   jaccard_threshold,\n",
    "                                    jaccard_thresholds,\n",
    "                                    data_handler,\n",
    "                                    Sim_Matrix_dict, agg_models_dict,\n",
    "                                    location_groups_dict,\n",
    "                                    Loc_Ref_Dict_All_Ch,\n",
    "                                                   incidence_matrcies,\n",
    "                                                   loosened_groups_for_deadlock_dict,\n",
    "                                                   mode):\n",
    "    \n",
    "    \n",
    "    jaccard_thresholds[ch]= jaccard_threshold\n",
    "    recompute_and_update_location_hierarchy_and_refs(\n",
    "                                channels=[ch],\n",
    "                                data_handler=data_handler,\n",
    "                                jaccard_thresholds=jaccard_thresholds,\n",
    "                                Sim_Matrix_dict=Sim_Matrix_dict,\n",
    "                                agg_models_dict=agg_models_dict,\n",
    "                                location_groups_dict=location_groups_dict,\n",
    "                                Loc_Ref_Dict_All_Ch=Loc_Ref_Dict_All_Ch,\n",
    "        loosened_groups_for_deadlock_dict = loosened_groups_for_deadlock_dict,\n",
    "        incidence_matrcies = incidence_matrcies\n",
    "                                   )\n",
    "    \n",
    "\n",
    "    print('hello')\n",
    "    plot_gates_dendrogram(agg_models_dict[ch],ch, jaccard_threshold, columns_names[ch+1])\n",
    "    plt.figure()\n",
    "    plot_gate_as_tiles(data_handler, ch, Loc_Ref_Dict_All_Ch)\n",
    "    if mode==1 or mode ==2:\n",
    "        plt.figure()\n",
    "        plot_network_graph(ch, incidence_matrcies[ch], columns_names)\n",
    "        plt.figure()\n",
    "        sns.heatmap(Sim_Matrix_dict[ch], cmap='Blues')\n",
    "        if mode ==2:  \n",
    "            plot_channel_segments(ch=ch,\n",
    "                               samples=samples,\n",
    "                               max_per_plt=20,show_labels=False, color_fill_lg= True,\n",
    "                               limit_x0=-.2,limit_x1=1.2)\n",
    "            \n",
    "ch_widget = widgets.ToggleButtons(\n",
    "    options=columns_names[1:-2],\n",
    "    description='Channel',\n",
    "    disabled=False,\n",
    "    style={\"button_width\": \"100px\"}\n",
    ")\n",
    "\n",
    "mode_widget = widgets.Dropdown(\n",
    "    options=[0, 1, 2],\n",
    "    value=0,\n",
    "    description='Mode:',\n",
    "    disabled=False,\n",
    ")\n",
    "data_handler = DataHandler(samples, verbose=False)\n",
    "\n",
    "interact(interact_pick_channel,\n",
    "         samples = fixed(samples),\n",
    "         channel = ch_widget,\n",
    "         jaccard_thresholds = fixed(jaccard_thresholds),\n",
    "         data_handler = fixed(data_handler),\n",
    "         Sim_Matrix_dict = fixed(Sim_Matrix_dict),\n",
    "         agg_models_dict = fixed(agg_models_dict),\n",
    "         location_groups_dict = fixed(location_groups_dict),\n",
    "         Loc_Ref_Dict_All_Ch = fixed(Loc_Ref_Dict_All_Ch),\n",
    "         incidence_matrcies = fixed(incidence_matrcies),\n",
    "         loosened_groups_for_deadlock_dict= fixed(loosened_groups_for_deadlock_dict),\n",
    "         mode = mode_widget\n",
    "         )\n",
    "\n",
    "data_handler = DataHandler(samples, verbose=False)\n",
    "\n"
   ]
  },
  {
   "cell_type": "code",
   "execution_count": null,
   "metadata": {
    "pycharm": {
     "name": "#%%\n"
    },
    "scrolled": true
   },
   "outputs": [],
   "source": [
    "for v in  Loc_Ref_Dict_All_Ch.values():\n",
    "        for r in v.values():\n",
    "#             print(v)\n",
    "            print(r.is_location_reference)\n",
    "            print((r.location_group, r.sample_num, int(r.group_ref_score*100)/100), r.gate)\n",
    "# plot_channel_segments(10,samples, max_per_plt=15)\n"
   ]
  },
  {
   "cell_type": "code",
   "execution_count": null,
   "metadata": {
    "pycharm": {
     "name": "#%%\n"
    }
   },
   "outputs": [],
   "source": [
    "Morph_models_dict = {}\n",
    "Loc_Morph_Ref_Dict_All_Ch = {}\n",
    "Morph_groups_All_ch = {}\n",
    "\n",
    "wass_dist_threshold = 1e-9\n",
    "wass_dist_threshold = np.ones(15)*wass_dist_threshold if isinstance(wass_dist_threshold, float) else wass_dist_threshold\n",
    "wass_dist_threshold[0] = 1e-13\n",
    "wass_dist_threshold[4] = 1e-12\n",
    "wass_dist_threshold[6] = 1e-13\n",
    "wass_dist_threshold[7] = 1e-7\n",
    "wass_dist_threshold[11] = 2e-13\n",
    "wass_dist_threshold[12] = 2e-13\n",
    "wass_dist_threshold[13] = 1e-11\n",
    "wass_dist_threshold[14] = 1e-7"
   ]
  },
  {
   "cell_type": "code",
   "execution_count": null,
   "metadata": {
    "pycharm": {
     "name": "#%%\n"
    }
   },
   "outputs": [],
   "source": [
    "def update_morphology_hierarchy_and_refs(channels,\n",
    "                                         wass_dist_threshold,\n",
    "                                         data_handler,\n",
    "                                         location_groups_dict,\n",
    "                                         Loc_Morph_Ref_Dict_All_Ch,\n",
    "                                         Morph_models_dict,\n",
    "                                         Morph_groups_All_ch,\n",
    "                                         ):\n",
    "\n",
    "    for ch, location_groups in [[ch, location_groups_dict[ch]] for ch in channels]:\n",
    "        distances = []\n",
    "        print('\\n','********\\n'*4,'ch',ch)\n",
    "        Ref_Dict_indx_by_Loc_and_Morph = {}\n",
    "        Morph_models_list_ch = []\n",
    "        Morph_groups_list = []\n",
    "        for gr in np.unique(location_groups):\n",
    "            gates_obj_arr = data_handler.get_gates_in_group(ch, gr)\n",
    "            distance = build_distance_matrix(gates_obj_arr, n_samples = 2000)\n",
    "\n",
    "            print('\\nloc_gr',gr,' #gates',len(gates_obj_arr),'\\n')\n",
    "            # print('dist:',distance,'\\n')\n",
    "            if distance.shape[0] >1:\n",
    "                model, morph_groups = group_gates(gates_obj_arr, distance, wass_dist_threshold[ch], on_location=False)\n",
    "                distances += [distance.flatten()]\n",
    "                Morph_models_list_ch += [model]\n",
    "                Morph_groups_list += [morph_groups]\n",
    "\n",
    "                for m_group in np.unique(morph_groups):\n",
    "                    indxes = np.argwhere(morph_groups==m_group).flatten()\n",
    "                    if len(indxes)>1:\n",
    "                        sub_matrix = distance[(morph_groups==m_group),:][:,(morph_groups==m_group)]\n",
    "                        sub_indx = np.argmin(np.sum(sub_matrix, 0))\n",
    "                        ref_indx = indxes[sub_indx]\n",
    "                        Ref_Dict_indx_by_Loc_and_Morph[gr, m_group] = gates_obj_arr[ref_indx]\n",
    "                        print('#members in group', len(indxes))\n",
    "                        print(f'loc_gr:{gr}, morph_gr', m_group)\n",
    "                        print('morph_groups', morph_groups)\n",
    "                    print(f'indx of gates in morph_group {m_group}:', indxes)\n",
    "                    # Morph_Ref_Dict_indx_by_Loc[] =\n",
    "                    # Loc_Ref_Dict_Ch[group] =gates_obj_arr[ref_indx]\n",
    "        Loc_Morph_Ref_Dict_All_Ch[ch] = Ref_Dict_indx_by_Loc_and_Morph\n",
    "        Morph_models_dict[ch] = Morph_models_list_ch\n",
    "        Morph_groups_All_ch[ch] = Morph_groups_list"
   ]
  },
  {
   "cell_type": "code",
   "execution_count": null,
   "metadata": {
    "pycharm": {
     "name": "#%%\n"
    },
    "scrolled": true
   },
   "outputs": [],
   "source": [
    "data_handler = DataHandler(samples, verbose=False)\n",
    "update_morphology_hierarchy_and_refs(channels=list(range(num_channels)),\n",
    "                                     wass_dist_threshold=wass_dist_threshold,\n",
    "                                     data_handler = data_handler,\n",
    "                                     location_groups_dict= location_groups_dict,\n",
    "                                     Loc_Morph_Ref_Dict_All_Ch = Loc_Morph_Ref_Dict_All_Ch,\n",
    "                                     Morph_models_dict = Morph_models_dict,\n",
    "                                     Morph_groups_All_ch = Morph_groups_All_ch\n",
    "                                     )"
   ]
  },
  {
   "cell_type": "code",
   "execution_count": null,
   "metadata": {
    "pycharm": {
     "name": "#%%\n"
    }
   },
   "outputs": [],
   "source": [
    "for model in Morph_models_dict[10]:\n",
    "    plt.figure()\n",
    "    plot_dendrogram(model)\n",
    "\n",
    "\n"
   ]
  },
  {
   "cell_type": "code",
   "execution_count": null,
   "metadata": {
    "pycharm": {
     "name": "#%%\n"
    }
   },
   "outputs": [],
   "source": [
    "# aligned_samples_copy = copy.deepcopy(aligned_samples)"
   ]
  },
  {
   "cell_type": "code",
   "execution_count": null,
   "metadata": {
    "pycharm": {
     "name": "#%%\n"
    }
   },
   "outputs": [],
   "source": [
    "aligned_samples = {}\n",
    "original_samples = {}\n",
    "gates_locations_dict = {}\n",
    "funcs_dict  = {}\n",
    "comp_func_dict = {}\n",
    "earth_models_dict = {}\n",
    "q_alignment = 0.1"
   ]
  },
  {
   "cell_type": "code",
   "execution_count": null,
   "metadata": {
    "pycharm": {
     "name": "#%%\n"
    }
   },
   "outputs": [],
   "source": [
    "\n",
    "\n",
    "def interact_align_samples(channels, gate_factor,\n",
    "                       samples,aligned_samples,\n",
    "                       original_samples,\n",
    "                       Loc_Ref_Dict_All_Ch,\n",
    "                       Loc_Morph_Ref_Dict_All_Ch,\n",
    "                       funcs_dict, comp_func_dict,\n",
    "                       gates_locations_dict,\n",
    "                           earth_models_dict,\n",
    "                       n_sample,\n",
    "                       varbose=False):\n",
    "    for ch in [channels]:        \n",
    "        ch = columns_names.index(ch)-1\n",
    "        print(channels, ch)\n",
    "        align_samples_func(ch=ch, q_alignment=gate_factor[ch],\n",
    "                           samples=samples,aligned_samples=aligned_samples,\n",
    "                           original_samples=original_samples,\n",
    "                           Loc_Ref_Dict_All_Ch=Loc_Ref_Dict_All_Ch,\n",
    "                           Loc_Morph_Ref_Dict_All_Ch=Loc_Morph_Ref_Dict_All_Ch,\n",
    "                           funcs_dict= funcs_dict, comp_func_dict=comp_func_dict,\n",
    "                           gates_locations_dict=gates_locations_dict,\n",
    "                           earth_models_dict = earth_models_dict,\n",
    "                           n_sample=n_sample,\n",
    "                           verbose=varbose)\n",
    "\n",
    "#         plot_original_vs_aligned([ch], samples, aligned_samples,n_sample,Loc_Ref_Dict_All_Ch)\n",
    "#         plt.figure()\n",
    "#         t = np.linspace(0,1.4,1000)\n",
    "#         plt.plot(t, t, linewidth=5)\n",
    "#         for n in range(0,60):\n",
    "#             plt.plot(t, comp_func_dict[ch,n](t))\n"
   ]
  },
  {
   "cell_type": "code",
   "execution_count": null,
   "metadata": {
    "pycharm": {
     "name": "#%%\n"
    },
    "scrolled": false
   },
   "outputs": [],
   "source": [
    "import warnings\n",
    "warnings.filterwarnings('ignore')\n",
    "\n",
    "ch_widget = widgets.ToggleButtons(\n",
    "    options=columns_names[1:-2],\n",
    "    description='Channel',\n",
    "    disabled=False,\n",
    "    style={\"button_width\": \"100px\"}\n",
    ")\n",
    "\n",
    "# ch_widget = widgets.SelectMultiple(\n",
    "#     options=columns_names[1:-2],\n",
    "#     description='Channels',\n",
    "#     disabled=False,\n",
    "#     style={\"button_width\": \"100px\"} \n",
    "# )\n",
    "\n",
    "ch = ch_widget.index\n",
    "\n",
    "interact(interact_align_samples,\n",
    "         channels=ch_widget, gate_factor=fixed(gate_factor),\n",
    "                       samples=fixed(samples),aligned_samples=fixed(aligned_samples),\n",
    "                       original_samples=fixed(original_samples),\n",
    "                       Loc_Ref_Dict_All_Ch=fixed(Loc_Ref_Dict_All_Ch),\n",
    "                       Loc_Morph_Ref_Dict_All_Ch=fixed(Loc_Morph_Ref_Dict_All_Ch),\n",
    "                       funcs_dict= fixed(funcs_dict), comp_func_dict=fixed(comp_func_dict),\n",
    "         earth_models_dict = fixed(earth_models_dict),\n",
    "                       gates_locations_dict=fixed(gates_locations_dict),\n",
    "                       n_sample=fixed(60),\n",
    "                       varbose=fixed([True]))\n",
    "\n"
   ]
  },
  {
   "cell_type": "code",
   "execution_count": null,
   "metadata": {
    "pycharm": {
     "name": "#%%\n"
    }
   },
   "outputs": [],
   "source": [
    "ch1, ch2 = 11, 14\n",
    "print(columns_names[ch1+1], columns_names[ch2+1])\n",
    "axes = plt.subplots(2,1)[1]\n",
    "for s in range(0,60):\n",
    "    axes[0].scatter(original_samples[s,ch1], original_samples[s,ch2],s=.002, c='b')\n",
    "    axes[1].scatter(aligned_samples[s,ch1], aligned_samples[s,ch2],s=.002, c='b')\n"
   ]
  },
  {
   "cell_type": "code",
   "execution_count": null,
   "metadata": {},
   "outputs": [],
   "source": [
    "plot_original_vs_aligned([ch1],samples, aligned_samples,\n",
    "                             60, Loc_Ref_Dict_All_Ch,\n",
    "                             max_per_plt=15, root_path = None)"
   ]
  },
  {
   "cell_type": "code",
   "execution_count": null,
   "metadata": {
    "pycharm": {
     "name": "#%%\n"
    }
   },
   "outputs": [],
   "source": [
    "plot = False\n",
    "n_sample= 60\n",
    "plot_result = False\n",
    "for ch in [10,11]:\n",
    "    q_alignment = gate_factor[ch]\n",
    "    # q_alignment = 0.4\n",
    "    print(ch,'\\n','===================\\n'*3)\n",
    "    ch_aligned = []\n",
    "    Ref_Dict_indx_by_Loc_and_Morph = Loc_Morph_Ref_Dict_All_Ch[ch]\n",
    "    Loc_Ref_Dict_Ch =Loc_Ref_Dict_All_Ch[ch]\n",
    "    types_of_alignment = []\n",
    "    for targ_num in range(n_sample):\n",
    "        print(f'Sample {targ_num} **** \\n')\n",
    "        funcs = []\n",
    "        z = samples[targ_num](ch)\n",
    "        sample_aligned = copy.deepcopy(z)\n",
    "        sample_orignal = copy.deepcopy(z)\n",
    "        # sample_orignal = []\n",
    "        gates_locations = []\n",
    "        xys = []\n",
    "        refs = []\n",
    "        for i in range(len(samples[targ_num].gates[ch])):\n",
    "            target_gate = samples[targ_num].gates[ch][i]\n",
    "            ind = np.logical_and(z>=target_gate.gate[0], z<target_gate.gate[1])\n",
    "            target_seg1 = target_gate.segment\n",
    "            print('diff:',np.abs(target_gate.segment-target_seg1).sum())\n",
    "            target_ecdf = sm.distributions.empirical_distribution.ECDF(target_seg1)\n",
    "            lo_gr, mr_gr = target_gate.location_group, target_gate.morphology_group\n",
    "            print('lo_gr, mr_gr',lo_gr, mr_gr)\n",
    "            ref_gate = Loc_Ref_Dict_All_Ch[ch][lo_gr]\n",
    "            mr_gr_ref = Ref_Dict_indx_by_Loc_and_Morph.get((lo_gr, mr_gr))\n",
    "            print('\\n mr_gr_ref', mr_gr_ref,'\\n')\n",
    "            print('target gate',target_gate,'\\n')\n",
    "            type_of_alignment = ''\n",
    "            if mr_gr_ref:\n",
    "                ref_seg1 = mr_gr_ref.segment\n",
    "                if mr_gr_ref != target_gate:\n",
    "                    ref_ecdf = sm.distributions.empirical_distribution.ECDF(ref_seg1)\n",
    "                    ref_inv_cdf = sm.distributions.empirical_distribution.monotone_fn_inverter(ref_ecdf,\n",
    "                                                                                               ref_seg1)\n",
    "                    ref_inv_cdf = scipy.interpolate.BSpline(\n",
    "                        ref_inv_cdf.x,\n",
    "                        ref_inv_cdf.y,\n",
    "                                                                     k=3,\n",
    "                                                                     extrapolate=False\n",
    "                                                                     )\n",
    "\n",
    "                    func0 = lambda_warp_factory(ref_inv_cdf, target_ecdf)\n",
    "\n",
    "                    type_of_alignment = f'Morph_IPT'\n",
    "                else:\n",
    "                    type_of_alignment = 'Mroph_Ref '\n",
    "                    func0 = lambda x : x\n",
    "\n",
    "            print('loc. gate is alredy ref?', ref_gate == target_gate)\n",
    "            n_mi, n_mx = ref_gate.get_tight_gates(q=q_alignment)\n",
    "            refs += [ref_gate.segment]\n",
    "            if mr_gr_ref:\n",
    "                funcf = minmaxmean_align(target_seg1 ,ref_gate.segment, n_mi, n_mx, q_alignment, func0)\n",
    "\n",
    "                type_of_alignment = type_of_alignment + ' Loc_MinMax' if mr_gr_ref != target_gate else \\\n",
    "                    type_of_alignment + ' Loc_Ref'\n",
    "\n",
    "            else:\n",
    "                funcf = minmaxmean_align(target_seg1, ref_gate.segment, n_mi, n_mx,q_alignment)\n",
    "                type_of_alignment ='minmax'\n",
    "\n",
    "            funcs += [funcf]\n",
    "            print('gate:\\n',target_gate.gate)\n",
    "            sample_orignal[ind] = z[ind]\n",
    "            t = np.linspace( target_gate.tight_gate[0], target_gate.tight_gate[1], 2000)\n",
    "            y = funcf(t)\n",
    "            ind = ~np.isnan(y)\n",
    "            xys +=[[t[ind],y[ind]]]\n",
    "            types_of_alignment +=[type_of_alignment]\n",
    "\n",
    "            if plot:\n",
    "                plt.figure()\n",
    "                ax1 = plt.subplot2grid((3,2), (0,0),rowspan=1, colspan=1)\n",
    "                ax1.set_xlim(0,1)\n",
    "                ax1.set_ylabel('reference')\n",
    "                ax2 = plt.subplot2grid((3,2), (1,0),rowspan=1, colspan=1)\n",
    "                ax2.set_ylabel('target')\n",
    "                ax2.set_xlim(0,1)\n",
    "                ax3 = plt.subplot2grid((3,2), (2,0),rowspan=1, colspan=1)\n",
    "                ax3.set_ylabel('aligned')\n",
    "                ax3.set_xlim(0,1)\n",
    "                ax4 = plt.subplot2grid((3,2), (0,1),rowspan=3, colspan=1)\n",
    "\n",
    "                sns.distplot(ref_seg1, ax = ax1,hist=False, bins=128)\n",
    "                sns.distplot(target_seg1, ax = ax2, hist=False,bins=128)\n",
    "                print('nans',np.count_nonzero(np.isnan(aligned)))\n",
    "            if plot:\n",
    "                sns.distplot(aligned, ax = ax3, hist=False, bins=128)\n",
    "                t = np.linspace(0,1,1000)\n",
    "                y = funcf(t)\n",
    "                ax4.plot(t, t)\n",
    "                ax4.plot(t, ref_ecdf(t))\n",
    "                ax4.plot(t, ref_inv_cdf(t))\n",
    "\n",
    "                ax4.plot(t, y)\n",
    "            else:\n",
    "                ax4 = None\n",
    "\n",
    "            gates_locations += [[target_gate.gate[0], target_gate.gate[1]]]\n",
    "            if plot:\n",
    "                for l in [ref_gate.tight_gate[0], ref_gate.tight_gate[1]]:\n",
    "                    ax4.axhline(l)\n",
    "                for l in [target_gate.tight_gate[0], target_gate.tight_gate[1]]:\n",
    "                    ax4.axvline(l)\n",
    "                ax4.grid(True)\n",
    "        print(plot)\n",
    "        model = Earth(penalty=2, smooth=True, max_degree=1, )\n",
    "        # comp_func = combine_funcs(model, xys, plot=plot, ax=ax4)\n",
    "        comp_func = combine_funcs(model, xys, funcs, gates_locations, plot=plot, ax=ax4)\n",
    "        comp_func_dict[ch, targ_num] = comp_func\n",
    "        funcs_dict[ch, targ_num] = funcs\n",
    "        if plot:\n",
    "            plt.figure()\n",
    "            ax1 = plt.subplot2grid((3,2), (0,0),rowspan=1, colspan=1)\n",
    "            ax1.set_xlim(0,1)\n",
    "            ax1.set_ylabel('reference')\n",
    "            ax2 = plt.subplot2grid((3,2), (1,0),rowspan=1, colspan=1)\n",
    "            ax2.set_ylabel('target')\n",
    "            ax2.set_xlim(0,1)\n",
    "            ax3 = plt.subplot2grid((3,2), (2,0),rowspan=1, colspan=1)\n",
    "            ax3.set_ylabel('aligned')\n",
    "            ax3.set_xlim(0,1)\n",
    "            ax4 = plt.subplot2grid((3,2), (0,1),rowspan=3, colspan=1)\n",
    "\n",
    "            sns.distplot(np.concatenate(refs), ax = ax1,hist=False, bins=128)\n",
    "            sns.distplot(samples[targ_num](ch), ax = ax2, hist=False,bins=128)\n",
    "            aligned = comp_func(samples[targ_num](ch))\n",
    "            sns.distplot(aligned, ax = ax3, hist=False, bins=128)\n",
    "\n",
    "            # plt.figure()\n",
    "        sample_aligned = comp_func(sample_orignal)\n",
    "        aligned_samples[targ_num, ch] = sample_aligned\n",
    "        original_samples[targ_num, ch] = sample_orignal\n",
    "        gates_locations_dict[targ_num, ch] = gates_locations\n",
    "    #%%\n",
    "    colors = 'blue,orange,g,r,coral,cyan,m,steelblue,brown,y,gray,k'.split(',')\n",
    "\n",
    "    if plot_result:\n",
    "        r = 15\n",
    "        # for i in range(n_sample):\n",
    "        #     if i%r==0:\n",
    "        #         axes = plt.subplots(np.minimum(n_sample, r),2)[1]\n",
    "        #     samp = samples[i]\n",
    "        #     sns.distplot(samp(ch), ax=axes[i%r,0],hist=True,bins=128, label=f'orig:{i}')\n",
    "        #     lo_gr = samp.gates[ch][0].location_group\n",
    "        #     ref_gate = Loc_Ref_Dict_All_Ch[ch][lo_gr]\n",
    "        #\n",
    "        #     z = aligned_samples[i, ch]\n",
    "        #     b = False\n",
    "        #     for gate in samp.gates[ch]:\n",
    "        #         lo_gr = gate.location_group\n",
    "        #         ref_gate = Loc_Ref_Dict_All_Ch[ch][lo_gr]\n",
    "        #         if functools.reduce(lambda x,y: x | (y==ref_gate),samp.gates[ch],False):\n",
    "        #             b = True\n",
    "        #             break\n",
    "        #     if b:\n",
    "        #         sns.distplot(z ,ax= axes[i%r,1], hist= False, color = colors[lo_gr+4])\n",
    "        #     else:\n",
    "        #         sns.distplot(z, ax= axes[i%r,1], hist= True, bins=128, color = colors[lo_gr+4])\n",
    "        #\n",
    "        #     # axes[i%r,1].set_xticks([])\n",
    "        #     axes[i%r,0].set_ylabel(' ')\n",
    "        #     axes[i%r,0].set_xlabel(types_of_alignment[i])\n",
    "        #     axes[i%r,0].set_xlim(0,1)\n",
    "        #     axes[i%r,1].set_xlim(0,1)\n",
    "        #     axes[i%r,1].set_ylabel('')\n",
    "\n",
    "        for i in range(n_sample):\n",
    "            if i%r==0:\n",
    "                axes = plt.subplots(np.minimum(n_sample, r),2)[1]\n",
    "            samp = samples[i]\n",
    "            t_o, pdf_o = samp.pdfs[ch]\n",
    "            lo_gr = samp.gates[ch][0].location_group\n",
    "            ref_gate = Loc_Ref_Dict_All_Ch[ch][lo_gr]\n",
    "\n",
    "            z = aligned_samples[i, ch]\n",
    "            sns_KDE = sns._statistics.KDE(bw_method=kde_window[ch])\n",
    "            pd_a, t_a = sns_KDE(x1 = z[~np.isnan(z)].flatten())\n",
    "\n",
    "            for gate in samp.gates[ch]:\n",
    "                lo_gr = gate.location_group\n",
    "                ref_gate = Loc_Ref_Dict_All_Ch[ch][lo_gr]\n",
    "                a, b = gate.gate[0], gate.gate[1]\n",
    "                ind = np.logical_and(t_a>=a, t_a<b)\n",
    "                axes[i%r,1].plot(t_a[ind], pd_a[ind], color = colors[lo_gr+4])\n",
    "\n",
    "                ind = np.logical_and(t_o>=a, t_o<b)\n",
    "                axes[i%r,0].plot(t_o[ind], pdf_o[ind], color = colors[lo_gr+4])\n",
    "\n",
    "\n",
    "            # axes[i%r,1].set_xticks([])\n",
    "            axes[i%r,0].set_xlim(0,1)\n",
    "            axes[i%r,1].set_xlim(0,1)\n",
    "            axes[i%r,1].set_ylabel('')\n",
    "\n"
   ]
  },
  {
   "cell_type": "code",
   "execution_count": null,
   "metadata": {
    "pycharm": {
     "name": "#%%\n"
    }
   },
   "outputs": [],
   "source": [
    "print(comp_func_dict[ch,0])\n",
    "t = np.linspace(0,1.4,1000)\n",
    "ch= 14\n",
    "plt.plot(t, t, linewidth=5)\n",
    "for n in range(0,60):\n",
    "    plt.plot(t, comp_func_dict[ch,n](t))\n",
    "    # for i, f in enumerate(funcs_dict[ch,n]):\n",
    "    #     loc = gates_locations_dict[n,ch][i]\n",
    "    #     t = np.linspace(loc[0],loc[1],1000)\n",
    "    #     plt.plot(t, gaussian_filter1d( f(t), 1) )"
   ]
  },
  {
   "cell_type": "code",
   "execution_count": null,
   "metadata": {
    "pycharm": {
     "name": "#%%\n"
    }
   },
   "outputs": [],
   "source": []
  },
  {
   "cell_type": "code",
   "execution_count": null,
   "metadata": {
    "pycharm": {
     "name": "#%%\n"
    }
   },
   "outputs": [],
   "source": [
    "print(ch)\n",
    "print(aligned_samples.keys())\n",
    "%matplotlib qt\n"
   ]
  },
  {
   "cell_type": "code",
   "execution_count": null,
   "metadata": {
    "pycharm": {
     "name": "#%%\n"
    }
   },
   "outputs": [],
   "source": [
    "aligned_samples_data = []\n",
    "Y_data = []\n",
    "original_samples_data = []\n",
    "for s in range(n_sample):\n",
    "    sample = []\n",
    "    orig_sample = []\n",
    "    for ch in [8,14]:\n",
    "    # for ch in range(15):\n",
    "        samp_ch = aligned_samples[s, ch].reshape(-1, 1)\n",
    "        orig_samp_ch = original_samples[s, ch].reshape(-1, 1)\n",
    "        sample +=[samp_ch]\n",
    "        orig_sample +=[orig_samp_ch]\n",
    "    sample = np.concatenate(sample, axis=1 )\n",
    "    y = np.zeros([sample.shape[0],1], dtype=np.int)+s\n",
    "    sample = np.concatenate([y, sample], axis = 1)\n",
    "    orig_sample = np.concatenate(orig_sample, axis=1 )\n",
    "    orig_sample = np.concatenate([y, orig_sample], axis = 1)\n",
    "    aligned_samples_data += [sample]\n",
    "    original_samples_data += [orig_sample]\n",
    "\n",
    "aligned_samples_data = np.concatenate(aligned_samples_data)\n",
    "original_samples_data = np.concatenate(original_samples_data)"
   ]
  },
  {
   "cell_type": "code",
   "execution_count": null,
   "metadata": {
    "pycharm": {
     "name": "#%%\n"
    }
   },
   "outputs": [],
   "source": [
    "print(np.unique(aligned_samples_data[:,0]))\n",
    "print(aligned_samples_data.shape)"
   ]
  },
  {
   "cell_type": "code",
   "execution_count": null,
   "metadata": {
    "pycharm": {
     "name": "#%%\n"
    }
   },
   "outputs": [],
   "source": [
    "plt.figure()\n",
    "for s in range(60):\n",
    "    c1, c2 = aligned_samples[s, 8], aligned_samples[s, 14]\n",
    "    plt.scatter(c1, c2, c='b', s=.01)\n",
    "    # c1, c2 = original_samples[s, 8], original_samples[s, 14]\n",
    "    # plt.scatter(c1, c2, c='b', s=.01)"
   ]
  },
  {
   "cell_type": "code",
   "execution_count": null,
   "metadata": {
    "pycharm": {
     "name": "#%%\n"
    }
   },
   "outputs": [],
   "source": [
    "# for i in range(1,13,3):\n",
    "ch1, ch2 = 0, 1\n",
    "fig, axes = plt.subplots(1,2)\n",
    "fig.suptitle(f'ch:{ch1}-{ch2}')\n",
    "axes = axes.flatten()\n",
    "axes[0].scatter(original_samples_data[:, ch1], original_samples_data[:, ch2])\n",
    "axes[1].scatter(aligned_samples_data[:, ch1], aligned_samples_data[:, ch2])"
   ]
  },
  {
   "cell_type": "code",
   "execution_count": null,
   "metadata": {
    "pycharm": {
     "name": "#%%\n"
    }
   },
   "outputs": [],
   "source": [
    "print(original_samples_data[:,2])\n",
    "# print(aligned_samples_data.shape)"
   ]
  },
  {
   "cell_type": "code",
   "execution_count": null,
   "metadata": {
    "pycharm": {
     "name": "#%%\n"
    }
   },
   "outputs": [],
   "source": [
    "for ch in range(9,11,1):\n",
    "    ch1 = ch\n",
    "    ch2 = ch+1\n",
    "    fig = plt.figure()\n",
    "    fig.suptitle(f'{(ch1-1, ch2-1)}, {columns_names[ch1]} - {columns_names[ch2]} ', fontsize=15)\n",
    "    line_ax1 = plt.subplot2grid((5,5), (0,2), rowspan=3, colspan=3)\n",
    "    line_ax2 = plt.subplot2grid((5,5), (3,0), rowspan=2, colspan=2)\n",
    "    side_ax1 = plt.subplot2grid((5,5), (0,0), rowspan=3, colspan=1)\n",
    "    side_ax2 = plt.subplot2grid((5,5), (0,1), rowspan=3, colspan=1)\n",
    "    side_ax1.set_ylim(0,1)\n",
    "    side_ax2.set_ylim(0,1)\n",
    "    bottom_ax1 = plt.subplot2grid((5,5), (3,2),rowspan=1, colspan=3)\n",
    "    bottom_ax2 = plt.subplot2grid((5,5), (4,2), rowspan=1, colspan=3)\n",
    "    bottom_ax1.set_xlim(0,1)\n",
    "    bottom_ax2.set_xlim(0,1)\n",
    "\n",
    "    for i, line_ax in enumerate([line_ax1, line_ax2]):\n",
    "        indx = original_samples_data[:,0]==i\n",
    "        plot_lines(\n",
    "            original_samples_data[:,[ch1,ch2]][indx] ,\n",
    "            aligned_samples_data[:,[ch1,ch2]][indx] ,\n",
    "                   n_lines=10000,linewidth=.2,\n",
    "                    s1=5, s2=10,ax = line_ax\n",
    "                   )\n",
    "        line_ax.set_xlim(0,1)\n",
    "        line_ax.set_ylim(0,1)\n",
    "\n",
    "    for s in range(n_sample):\n",
    "        indx = original_samples_data[:,0]==s\n",
    "\n",
    "        sns_KDE = sns._statistics.KDE()\n",
    "        pd_a, t_a = sns_KDE(x1 = original_samples_data[:,ch2][indx].flatten())\n",
    "        side_ax2.plot(pd_a, t_a)\n",
    "        sns_KDE = sns._statistics.KDE()\n",
    "        pd_a, t_a = sns_KDE(x1 = aligned_samples_data[:,ch2][indx][~np.isnan(aligned_samples_data[:,ch2][indx])].flatten())\n",
    "        side_ax1.plot(pd_a, t_a)\n",
    "\n",
    "        sns.distplot(original_samples_data[:,ch1][indx], hist=False, ax=bottom_ax1)\n",
    "        sns.distplot(aligned_samples_data[:,ch1][indx], hist=False, ax=bottom_ax2)\n",
    "\n",
    "    fig.set_size_inches(28.5, 10.5)\n",
    "    fig.tight_layout()\n",
    "    fig.savefig(f'imgs/Grid Warp {ch1-1}_{ch2-1}')"
   ]
  },
  {
   "cell_type": "code",
   "execution_count": null,
   "metadata": {
    "pycharm": {
     "name": "#%%\n"
    }
   },
   "outputs": [],
   "source": [
    "cleaned_and_aligned = aligned_samples_data[~np.isnan(aligned_samples_data).any(axis=1)]\n",
    "header = ','.join(columns_names[:-2])\n",
    "np.savetxt(f'Aligned 080322-ENU-Mouse CSP.csv',cleaned_and_aligned,delimiter=',',header=header,\n",
    "           fmt=','.join(['%i'] + ['%1.4f']*15),comments='')"
   ]
  },
  {
   "cell_type": "code",
   "execution_count": null,
   "metadata": {
    "pycharm": {
     "name": "#%%\n"
    }
   },
   "outputs": [],
   "source": [
    "loaded = np.loadtxt('Aligned 080322-ENU-Mouse CSP.csv', delimiter=',', skiprows=1)"
   ]
  },
  {
   "cell_type": "code",
   "execution_count": null,
   "metadata": {
    "pycharm": {
     "name": "#%%\n"
    }
   },
   "outputs": [],
   "source": [
    "for i, c in enumerate(columns_names):\n",
    "    print(i, c)"
   ]
  },
  {
   "cell_type": "code",
   "execution_count": null,
   "metadata": {
    "pycharm": {
     "name": "#%%\n"
    }
   },
   "outputs": [],
   "source": [
    "for i in range(1):\n",
    "    fig, axes = plt.subplots(1,2)\n",
    "    axes = axes.flatten()\n",
    "    # ch1, ch2 = i, i+1\n",
    "    ch1, ch2 = 3, 4\n",
    "    print(columns_names[ch1], columns_names[ch2])\n",
    "    axes[0].set_title(f'original:{(ch1-1, ch2-1)}')\n",
    "    axes[0].scatter(original_samples_data[:, ch1], original_samples_data[:, ch2],s=.01)\n",
    "    axes[1].scatter(loaded[:, ch1], loaded[:, ch2], s=.01)\n",
    "    axes[1].set_title(f'aligned:{(ch1-1, ch2-1)}')\n",
    "    axes[0].set_xticks([])\n",
    "    axes[0].set_yticks([])\n",
    "    axes[1].set_xticks([])\n",
    "    axes[1].set_yticks([])\n",
    "    axes[0].set_xlabel(columns_names[ch1], fontdict={\"size\":15})\n",
    "    axes[0].set_ylabel(columns_names[ch2], fontdict={\"size\":15})\n",
    "    axes[1].set_xlabel(columns_names[ch1], fontdict={\"size\":15})\n",
    "    axes[1].set_ylabel(columns_names[ch2], fontdict={\"size\":15})\n",
    "    fig.set_size_inches(28.5, 10.5)\n",
    "    fig.tight_layout()\n",
    "    fig.savefig(f'imgs/Scatter_{ch1-1}_{ch2-1}')"
   ]
  },
  {
   "cell_type": "code",
   "execution_count": null,
   "metadata": {
    "pycharm": {
     "name": "#%%\n"
    }
   },
   "outputs": [],
   "source": [
    "plot_gate_lines(data_handler, 10,6)\n"
   ]
  },
  {
   "cell_type": "code",
   "execution_count": null,
   "metadata": {
    "pycharm": {
     "name": "#%%\n"
    }
   },
   "outputs": [],
   "source": []
  }
 ],
 "metadata": {
  "kernelspec": {
   "display_name": "Python 3",
   "language": "python",
   "name": "python3"
  },
  "language_info": {
   "codemirror_mode": {
    "name": "ipython",
    "version": 3
   },
   "file_extension": ".py",
   "mimetype": "text/x-python",
   "name": "python",
   "nbconvert_exporter": "python",
   "pygments_lexer": "ipython3",
   "version": "3.8.5"
  }
 },
 "nbformat": 4,
 "nbformat_minor": 1
}